{
  "nbformat": 4,
  "nbformat_minor": 0,
  "metadata": {
    "colab": {
      "provenance": []
    },
    "kernelspec": {
      "name": "python3",
      "display_name": "Python 3"
    },
    "language_info": {
      "name": "python"
    }
  },
  "cells": [
    {
      "cell_type": "markdown",
      "source": [
        "Colab link: https://colab.research.google.com/drive/1XvfhWHDw5LhBbVLyQPYGN7Za4dd2Mnf1#scrollTo=-b4h2xyLL3nv"
      ],
      "metadata": {
        "id": "-b4h2xyLL3nv"
      }
    },
    {
      "cell_type": "code",
      "source": [
        "import pandas as pd\n",
        "import numpy as np\n",
        "import matplotlib.pyplot as plt\n",
        "import seaborn as sns\n",
        "%matplotlib inline \n",
        "import statsmodels\n",
        "from scipy import stats\n",
        "from scipy.stats import levene\n",
        "import scipy.stats\n",
        "import math\n",
        "import random\n",
        "import statistics\n",
        "import scipy.stats as sp\n",
        "from sklearn import linear_model\n",
        "import seaborn as sns\n",
        "import statsmodels.stats.api as sms"
      ],
      "metadata": {
        "id": "LDIXA3yi8ldy"
      },
      "execution_count": null,
      "outputs": []
    },
    {
      "cell_type": "code",
      "execution_count": null,
      "metadata": {
        "colab": {
          "base_uri": "https://localhost:8080/",
          "height": 473
        },
        "id": "epoKYGwLR4BL",
        "outputId": "d1c15422-169d-4417-b817-6ec86d2f7b4e"
      },
      "outputs": [
        {
          "output_type": "execute_result",
          "data": {
            "text/plain": [
              "   Arrest_Year Arrest_Month  EventID   ArrestID  PersonID     Perceived_Race  \\\n",
              "0         2020    July-Sept  1005907  6017884.0    326622              White   \n",
              "1         2020    July-Sept  1014562  6056669.0    326622              White   \n",
              "2         2020      Oct-Dec  1029922  6057065.0    326622  Unknown or Legacy   \n",
              "3         2021      Jan-Mar  1052190  6029059.0    327535              Black   \n",
              "4         2021      Jan-Mar  1015512  6040372.0    327535        South Asian   \n",
              "5         2021     Apr-June  1019145  6060688.0    327535        South Asian   \n",
              "6         2021      Jan-Mar  1035445  6053833.0    330778              Black   \n",
              "7         2021      Jan-Mar  1050464  6063477.0    330778              Black   \n",
              "8         2021      Jan-Mar  1045486  6053929.0    330778              Black   \n",
              "9         2021     Apr-June  1012287  6004570.0    330778              Black   \n",
              "\n",
              "  Sex Age_group__at_arrest_ Youth_at_arrest__under_18_years ArrestLocDiv  ...  \\\n",
              "0   M   Aged 35 to 44 years                     Not a youth           54  ...   \n",
              "1   M   Aged 35 to 44 years                     Not a youth           54  ...   \n",
              "2   M   Aged 35 to 44 years                     Not a youth           54  ...   \n",
              "3   M   Aged 25 to 34 years                     Not a youth           XX  ...   \n",
              "4   M   Aged 25 to 34 years                     Not a youth           XX  ...   \n",
              "5   M   Aged 25 to 34 years                     Not a youth           42  ...   \n",
              "6   M   Aged 25 to 34 years                     Not a youth           52  ...   \n",
              "7   M   Aged 25 to 34 years                     Not a youth           XX  ...   \n",
              "8   M   Aged 25 to 34 years                     Not a youth           XX  ...   \n",
              "9   M   Aged 25 to 34 years                     Not a youth           14  ...   \n",
              "\n",
              "   Actions_at_arrest___Resisted__d  Actions_at_arrest___Mental_inst  \\\n",
              "0                                0                                0   \n",
              "1                                0                                0   \n",
              "2                                0                                0   \n",
              "3                                0                                0   \n",
              "4                                0                                0   \n",
              "5                                0                                0   \n",
              "6                                0                                0   \n",
              "7                                0                                0   \n",
              "8                                0                                0   \n",
              "9                                0                                0   \n",
              "\n",
              "  Actions_at_arrest___Assaulted_o  Actions_at_arrest___Cooperative  \\\n",
              "0                               0                                1   \n",
              "1                               0                                0   \n",
              "2                               0                                0   \n",
              "3                               0                                0   \n",
              "4                               0                                0   \n",
              "5                               0                                1   \n",
              "6                               0                                0   \n",
              "7                               0                                1   \n",
              "8                               0                                1   \n",
              "9                               0                                0   \n",
              "\n",
              "   SearchReason_CauseInjury  SearchReason_AssistEscape  \\\n",
              "0                       NaN                        NaN   \n",
              "1                       NaN                        NaN   \n",
              "2                       NaN                        NaN   \n",
              "3                       NaN                        NaN   \n",
              "4                       NaN                        NaN   \n",
              "5                       NaN                        NaN   \n",
              "6                       NaN                        NaN   \n",
              "7                       NaN                        NaN   \n",
              "8                       NaN                        NaN   \n",
              "9                       NaN                        NaN   \n",
              "\n",
              "   SearchReason_PossessWeapons  SearchReason_PossessEvidence  ItemsFound  \\\n",
              "0                          NaN                           NaN         NaN   \n",
              "1                          NaN                           NaN         NaN   \n",
              "2                          NaN                           NaN         NaN   \n",
              "3                          NaN                           NaN         NaN   \n",
              "4                          NaN                           NaN         NaN   \n",
              "5                          NaN                           NaN         NaN   \n",
              "6                          NaN                           NaN         NaN   \n",
              "7                          NaN                           NaN         NaN   \n",
              "8                          NaN                           NaN         NaN   \n",
              "9                          NaN                           NaN         NaN   \n",
              "\n",
              "   ObjectId  \n",
              "0         1  \n",
              "1         2  \n",
              "2         3  \n",
              "3         4  \n",
              "4         5  \n",
              "5         6  \n",
              "6         7  \n",
              "7         8  \n",
              "8         9  \n",
              "9        10  \n",
              "\n",
              "[10 rows x 25 columns]"
            ],
            "text/html": [
              "\n",
              "  <div id=\"df-63472260-96c1-4aed-81e1-b74e7477716a\">\n",
              "    <div class=\"colab-df-container\">\n",
              "      <div>\n",
              "<style scoped>\n",
              "    .dataframe tbody tr th:only-of-type {\n",
              "        vertical-align: middle;\n",
              "    }\n",
              "\n",
              "    .dataframe tbody tr th {\n",
              "        vertical-align: top;\n",
              "    }\n",
              "\n",
              "    .dataframe thead th {\n",
              "        text-align: right;\n",
              "    }\n",
              "</style>\n",
              "<table border=\"1\" class=\"dataframe\">\n",
              "  <thead>\n",
              "    <tr style=\"text-align: right;\">\n",
              "      <th></th>\n",
              "      <th>Arrest_Year</th>\n",
              "      <th>Arrest_Month</th>\n",
              "      <th>EventID</th>\n",
              "      <th>ArrestID</th>\n",
              "      <th>PersonID</th>\n",
              "      <th>Perceived_Race</th>\n",
              "      <th>Sex</th>\n",
              "      <th>Age_group__at_arrest_</th>\n",
              "      <th>Youth_at_arrest__under_18_years</th>\n",
              "      <th>ArrestLocDiv</th>\n",
              "      <th>...</th>\n",
              "      <th>Actions_at_arrest___Resisted__d</th>\n",
              "      <th>Actions_at_arrest___Mental_inst</th>\n",
              "      <th>Actions_at_arrest___Assaulted_o</th>\n",
              "      <th>Actions_at_arrest___Cooperative</th>\n",
              "      <th>SearchReason_CauseInjury</th>\n",
              "      <th>SearchReason_AssistEscape</th>\n",
              "      <th>SearchReason_PossessWeapons</th>\n",
              "      <th>SearchReason_PossessEvidence</th>\n",
              "      <th>ItemsFound</th>\n",
              "      <th>ObjectId</th>\n",
              "    </tr>\n",
              "  </thead>\n",
              "  <tbody>\n",
              "    <tr>\n",
              "      <th>0</th>\n",
              "      <td>2020</td>\n",
              "      <td>July-Sept</td>\n",
              "      <td>1005907</td>\n",
              "      <td>6017884.0</td>\n",
              "      <td>326622</td>\n",
              "      <td>White</td>\n",
              "      <td>M</td>\n",
              "      <td>Aged 35 to 44 years</td>\n",
              "      <td>Not a youth</td>\n",
              "      <td>54</td>\n",
              "      <td>...</td>\n",
              "      <td>0</td>\n",
              "      <td>0</td>\n",
              "      <td>0</td>\n",
              "      <td>1</td>\n",
              "      <td>NaN</td>\n",
              "      <td>NaN</td>\n",
              "      <td>NaN</td>\n",
              "      <td>NaN</td>\n",
              "      <td>NaN</td>\n",
              "      <td>1</td>\n",
              "    </tr>\n",
              "    <tr>\n",
              "      <th>1</th>\n",
              "      <td>2020</td>\n",
              "      <td>July-Sept</td>\n",
              "      <td>1014562</td>\n",
              "      <td>6056669.0</td>\n",
              "      <td>326622</td>\n",
              "      <td>White</td>\n",
              "      <td>M</td>\n",
              "      <td>Aged 35 to 44 years</td>\n",
              "      <td>Not a youth</td>\n",
              "      <td>54</td>\n",
              "      <td>...</td>\n",
              "      <td>0</td>\n",
              "      <td>0</td>\n",
              "      <td>0</td>\n",
              "      <td>0</td>\n",
              "      <td>NaN</td>\n",
              "      <td>NaN</td>\n",
              "      <td>NaN</td>\n",
              "      <td>NaN</td>\n",
              "      <td>NaN</td>\n",
              "      <td>2</td>\n",
              "    </tr>\n",
              "    <tr>\n",
              "      <th>2</th>\n",
              "      <td>2020</td>\n",
              "      <td>Oct-Dec</td>\n",
              "      <td>1029922</td>\n",
              "      <td>6057065.0</td>\n",
              "      <td>326622</td>\n",
              "      <td>Unknown or Legacy</td>\n",
              "      <td>M</td>\n",
              "      <td>Aged 35 to 44 years</td>\n",
              "      <td>Not a youth</td>\n",
              "      <td>54</td>\n",
              "      <td>...</td>\n",
              "      <td>0</td>\n",
              "      <td>0</td>\n",
              "      <td>0</td>\n",
              "      <td>0</td>\n",
              "      <td>NaN</td>\n",
              "      <td>NaN</td>\n",
              "      <td>NaN</td>\n",
              "      <td>NaN</td>\n",
              "      <td>NaN</td>\n",
              "      <td>3</td>\n",
              "    </tr>\n",
              "    <tr>\n",
              "      <th>3</th>\n",
              "      <td>2021</td>\n",
              "      <td>Jan-Mar</td>\n",
              "      <td>1052190</td>\n",
              "      <td>6029059.0</td>\n",
              "      <td>327535</td>\n",
              "      <td>Black</td>\n",
              "      <td>M</td>\n",
              "      <td>Aged 25 to 34 years</td>\n",
              "      <td>Not a youth</td>\n",
              "      <td>XX</td>\n",
              "      <td>...</td>\n",
              "      <td>0</td>\n",
              "      <td>0</td>\n",
              "      <td>0</td>\n",
              "      <td>0</td>\n",
              "      <td>NaN</td>\n",
              "      <td>NaN</td>\n",
              "      <td>NaN</td>\n",
              "      <td>NaN</td>\n",
              "      <td>NaN</td>\n",
              "      <td>4</td>\n",
              "    </tr>\n",
              "    <tr>\n",
              "      <th>4</th>\n",
              "      <td>2021</td>\n",
              "      <td>Jan-Mar</td>\n",
              "      <td>1015512</td>\n",
              "      <td>6040372.0</td>\n",
              "      <td>327535</td>\n",
              "      <td>South Asian</td>\n",
              "      <td>M</td>\n",
              "      <td>Aged 25 to 34 years</td>\n",
              "      <td>Not a youth</td>\n",
              "      <td>XX</td>\n",
              "      <td>...</td>\n",
              "      <td>0</td>\n",
              "      <td>0</td>\n",
              "      <td>0</td>\n",
              "      <td>0</td>\n",
              "      <td>NaN</td>\n",
              "      <td>NaN</td>\n",
              "      <td>NaN</td>\n",
              "      <td>NaN</td>\n",
              "      <td>NaN</td>\n",
              "      <td>5</td>\n",
              "    </tr>\n",
              "    <tr>\n",
              "      <th>5</th>\n",
              "      <td>2021</td>\n",
              "      <td>Apr-June</td>\n",
              "      <td>1019145</td>\n",
              "      <td>6060688.0</td>\n",
              "      <td>327535</td>\n",
              "      <td>South Asian</td>\n",
              "      <td>M</td>\n",
              "      <td>Aged 25 to 34 years</td>\n",
              "      <td>Not a youth</td>\n",
              "      <td>42</td>\n",
              "      <td>...</td>\n",
              "      <td>0</td>\n",
              "      <td>0</td>\n",
              "      <td>0</td>\n",
              "      <td>1</td>\n",
              "      <td>NaN</td>\n",
              "      <td>NaN</td>\n",
              "      <td>NaN</td>\n",
              "      <td>NaN</td>\n",
              "      <td>NaN</td>\n",
              "      <td>6</td>\n",
              "    </tr>\n",
              "    <tr>\n",
              "      <th>6</th>\n",
              "      <td>2021</td>\n",
              "      <td>Jan-Mar</td>\n",
              "      <td>1035445</td>\n",
              "      <td>6053833.0</td>\n",
              "      <td>330778</td>\n",
              "      <td>Black</td>\n",
              "      <td>M</td>\n",
              "      <td>Aged 25 to 34 years</td>\n",
              "      <td>Not a youth</td>\n",
              "      <td>52</td>\n",
              "      <td>...</td>\n",
              "      <td>0</td>\n",
              "      <td>0</td>\n",
              "      <td>0</td>\n",
              "      <td>0</td>\n",
              "      <td>NaN</td>\n",
              "      <td>NaN</td>\n",
              "      <td>NaN</td>\n",
              "      <td>NaN</td>\n",
              "      <td>NaN</td>\n",
              "      <td>7</td>\n",
              "    </tr>\n",
              "    <tr>\n",
              "      <th>7</th>\n",
              "      <td>2021</td>\n",
              "      <td>Jan-Mar</td>\n",
              "      <td>1050464</td>\n",
              "      <td>6063477.0</td>\n",
              "      <td>330778</td>\n",
              "      <td>Black</td>\n",
              "      <td>M</td>\n",
              "      <td>Aged 25 to 34 years</td>\n",
              "      <td>Not a youth</td>\n",
              "      <td>XX</td>\n",
              "      <td>...</td>\n",
              "      <td>0</td>\n",
              "      <td>0</td>\n",
              "      <td>0</td>\n",
              "      <td>1</td>\n",
              "      <td>NaN</td>\n",
              "      <td>NaN</td>\n",
              "      <td>NaN</td>\n",
              "      <td>NaN</td>\n",
              "      <td>NaN</td>\n",
              "      <td>8</td>\n",
              "    </tr>\n",
              "    <tr>\n",
              "      <th>8</th>\n",
              "      <td>2021</td>\n",
              "      <td>Jan-Mar</td>\n",
              "      <td>1045486</td>\n",
              "      <td>6053929.0</td>\n",
              "      <td>330778</td>\n",
              "      <td>Black</td>\n",
              "      <td>M</td>\n",
              "      <td>Aged 25 to 34 years</td>\n",
              "      <td>Not a youth</td>\n",
              "      <td>XX</td>\n",
              "      <td>...</td>\n",
              "      <td>0</td>\n",
              "      <td>0</td>\n",
              "      <td>0</td>\n",
              "      <td>1</td>\n",
              "      <td>NaN</td>\n",
              "      <td>NaN</td>\n",
              "      <td>NaN</td>\n",
              "      <td>NaN</td>\n",
              "      <td>NaN</td>\n",
              "      <td>9</td>\n",
              "    </tr>\n",
              "    <tr>\n",
              "      <th>9</th>\n",
              "      <td>2021</td>\n",
              "      <td>Apr-June</td>\n",
              "      <td>1012287</td>\n",
              "      <td>6004570.0</td>\n",
              "      <td>330778</td>\n",
              "      <td>Black</td>\n",
              "      <td>M</td>\n",
              "      <td>Aged 25 to 34 years</td>\n",
              "      <td>Not a youth</td>\n",
              "      <td>14</td>\n",
              "      <td>...</td>\n",
              "      <td>0</td>\n",
              "      <td>0</td>\n",
              "      <td>0</td>\n",
              "      <td>0</td>\n",
              "      <td>NaN</td>\n",
              "      <td>NaN</td>\n",
              "      <td>NaN</td>\n",
              "      <td>NaN</td>\n",
              "      <td>NaN</td>\n",
              "      <td>10</td>\n",
              "    </tr>\n",
              "  </tbody>\n",
              "</table>\n",
              "<p>10 rows × 25 columns</p>\n",
              "</div>\n",
              "      <button class=\"colab-df-convert\" onclick=\"convertToInteractive('df-63472260-96c1-4aed-81e1-b74e7477716a')\"\n",
              "              title=\"Convert this dataframe to an interactive table.\"\n",
              "              style=\"display:none;\">\n",
              "        \n",
              "  <svg xmlns=\"http://www.w3.org/2000/svg\" height=\"24px\"viewBox=\"0 0 24 24\"\n",
              "       width=\"24px\">\n",
              "    <path d=\"M0 0h24v24H0V0z\" fill=\"none\"/>\n",
              "    <path d=\"M18.56 5.44l.94 2.06.94-2.06 2.06-.94-2.06-.94-.94-2.06-.94 2.06-2.06.94zm-11 1L8.5 8.5l.94-2.06 2.06-.94-2.06-.94L8.5 2.5l-.94 2.06-2.06.94zm10 10l.94 2.06.94-2.06 2.06-.94-2.06-.94-.94-2.06-.94 2.06-2.06.94z\"/><path d=\"M17.41 7.96l-1.37-1.37c-.4-.4-.92-.59-1.43-.59-.52 0-1.04.2-1.43.59L10.3 9.45l-7.72 7.72c-.78.78-.78 2.05 0 2.83L4 21.41c.39.39.9.59 1.41.59.51 0 1.02-.2 1.41-.59l7.78-7.78 2.81-2.81c.8-.78.8-2.07 0-2.86zM5.41 20L4 18.59l7.72-7.72 1.47 1.35L5.41 20z\"/>\n",
              "  </svg>\n",
              "      </button>\n",
              "      \n",
              "  <style>\n",
              "    .colab-df-container {\n",
              "      display:flex;\n",
              "      flex-wrap:wrap;\n",
              "      gap: 12px;\n",
              "    }\n",
              "\n",
              "    .colab-df-convert {\n",
              "      background-color: #E8F0FE;\n",
              "      border: none;\n",
              "      border-radius: 50%;\n",
              "      cursor: pointer;\n",
              "      display: none;\n",
              "      fill: #1967D2;\n",
              "      height: 32px;\n",
              "      padding: 0 0 0 0;\n",
              "      width: 32px;\n",
              "    }\n",
              "\n",
              "    .colab-df-convert:hover {\n",
              "      background-color: #E2EBFA;\n",
              "      box-shadow: 0px 1px 2px rgba(60, 64, 67, 0.3), 0px 1px 3px 1px rgba(60, 64, 67, 0.15);\n",
              "      fill: #174EA6;\n",
              "    }\n",
              "\n",
              "    [theme=dark] .colab-df-convert {\n",
              "      background-color: #3B4455;\n",
              "      fill: #D2E3FC;\n",
              "    }\n",
              "\n",
              "    [theme=dark] .colab-df-convert:hover {\n",
              "      background-color: #434B5C;\n",
              "      box-shadow: 0px 1px 3px 1px rgba(0, 0, 0, 0.15);\n",
              "      filter: drop-shadow(0px 1px 2px rgba(0, 0, 0, 0.3));\n",
              "      fill: #FFFFFF;\n",
              "    }\n",
              "  </style>\n",
              "\n",
              "      <script>\n",
              "        const buttonEl =\n",
              "          document.querySelector('#df-63472260-96c1-4aed-81e1-b74e7477716a button.colab-df-convert');\n",
              "        buttonEl.style.display =\n",
              "          google.colab.kernel.accessAllowed ? 'block' : 'none';\n",
              "\n",
              "        async function convertToInteractive(key) {\n",
              "          const element = document.querySelector('#df-63472260-96c1-4aed-81e1-b74e7477716a');\n",
              "          const dataTable =\n",
              "            await google.colab.kernel.invokeFunction('convertToInteractive',\n",
              "                                                     [key], {});\n",
              "          if (!dataTable) return;\n",
              "\n",
              "          const docLinkHtml = 'Like what you see? Visit the ' +\n",
              "            '<a target=\"_blank\" href=https://colab.research.google.com/notebooks/data_table.ipynb>data table notebook</a>'\n",
              "            + ' to learn more about interactive tables.';\n",
              "          element.innerHTML = '';\n",
              "          dataTable['output_type'] = 'display_data';\n",
              "          await google.colab.output.renderOutput(dataTable, element);\n",
              "          const docLink = document.createElement('div');\n",
              "          docLink.innerHTML = docLinkHtml;\n",
              "          element.appendChild(docLink);\n",
              "        }\n",
              "      </script>\n",
              "    </div>\n",
              "  </div>\n",
              "  "
            ]
          },
          "metadata": {},
          "execution_count": 60
        }
      ],
      "source": [
        "data = pd.read_csv(\"https://raw.githubusercontent.com/shionguha/inf2178-expdesignfordatascience-w23/main/project%20dataset/Arrests_and_Strip_Searches_(RBDC-ARR-TBL-001).csv\")\n",
        "data.head(10)"
      ]
    },
    {
      "cell_type": "markdown",
      "source": [
        "**Data cleaning**"
      ],
      "metadata": {
        "id": "GXBs8kPiVY8K"
      }
    },
    {
      "cell_type": "code",
      "source": [
        "#Remove the columns related to search reason and object id\n",
        "df = data.iloc[:, :-6]\n",
        "df.head(5)"
      ],
      "metadata": {
        "colab": {
          "base_uri": "https://localhost:8080/",
          "height": 339
        },
        "id": "B82M3oZ6VWI9",
        "outputId": "07849618-921b-479c-ecb2-d786e96239b2"
      },
      "execution_count": null,
      "outputs": [
        {
          "output_type": "execute_result",
          "data": {
            "text/plain": [
              "   Arrest_Year Arrest_Month  EventID   ArrestID  PersonID     Perceived_Race  \\\n",
              "0         2020    July-Sept  1005907  6017884.0    326622              White   \n",
              "1         2020    July-Sept  1014562  6056669.0    326622              White   \n",
              "2         2020      Oct-Dec  1029922  6057065.0    326622  Unknown or Legacy   \n",
              "3         2021      Jan-Mar  1052190  6029059.0    327535              Black   \n",
              "4         2021      Jan-Mar  1015512  6040372.0    327535        South Asian   \n",
              "\n",
              "  Sex Age_group__at_arrest_ Youth_at_arrest__under_18_years ArrestLocDiv  \\\n",
              "0   M   Aged 35 to 44 years                     Not a youth           54   \n",
              "1   M   Aged 35 to 44 years                     Not a youth           54   \n",
              "2   M   Aged 35 to 44 years                     Not a youth           54   \n",
              "3   M   Aged 25 to 34 years                     Not a youth           XX   \n",
              "4   M   Aged 25 to 34 years                     Not a youth           XX   \n",
              "\n",
              "   StripSearch  Booked                     Occurrence_Category  \\\n",
              "0            0       1  Assault & Other crimes against persons   \n",
              "1            0       1  Assault & Other crimes against persons   \n",
              "2            0       1  Assault & Other crimes against persons   \n",
              "3            0       0                  Harassment/Threatening   \n",
              "4            0       1       FTA/FTC/Compliance Check/Parollee   \n",
              "\n",
              "   Actions_at_arrest___Concealed_i  Actions_at_arrest___Combative__  \\\n",
              "0                                0                                0   \n",
              "1                                0                                0   \n",
              "2                                0                                0   \n",
              "3                                0                                0   \n",
              "4                                0                                0   \n",
              "\n",
              "   Actions_at_arrest___Resisted__d  Actions_at_arrest___Mental_inst  \\\n",
              "0                                0                                0   \n",
              "1                                0                                0   \n",
              "2                                0                                0   \n",
              "3                                0                                0   \n",
              "4                                0                                0   \n",
              "\n",
              "   Actions_at_arrest___Assaulted_o  Actions_at_arrest___Cooperative  \n",
              "0                                0                                1  \n",
              "1                                0                                0  \n",
              "2                                0                                0  \n",
              "3                                0                                0  \n",
              "4                                0                                0  "
            ],
            "text/html": [
              "\n",
              "  <div id=\"df-74b684b8-0297-45b6-a3b7-fddf0318ec06\">\n",
              "    <div class=\"colab-df-container\">\n",
              "      <div>\n",
              "<style scoped>\n",
              "    .dataframe tbody tr th:only-of-type {\n",
              "        vertical-align: middle;\n",
              "    }\n",
              "\n",
              "    .dataframe tbody tr th {\n",
              "        vertical-align: top;\n",
              "    }\n",
              "\n",
              "    .dataframe thead th {\n",
              "        text-align: right;\n",
              "    }\n",
              "</style>\n",
              "<table border=\"1\" class=\"dataframe\">\n",
              "  <thead>\n",
              "    <tr style=\"text-align: right;\">\n",
              "      <th></th>\n",
              "      <th>Arrest_Year</th>\n",
              "      <th>Arrest_Month</th>\n",
              "      <th>EventID</th>\n",
              "      <th>ArrestID</th>\n",
              "      <th>PersonID</th>\n",
              "      <th>Perceived_Race</th>\n",
              "      <th>Sex</th>\n",
              "      <th>Age_group__at_arrest_</th>\n",
              "      <th>Youth_at_arrest__under_18_years</th>\n",
              "      <th>ArrestLocDiv</th>\n",
              "      <th>StripSearch</th>\n",
              "      <th>Booked</th>\n",
              "      <th>Occurrence_Category</th>\n",
              "      <th>Actions_at_arrest___Concealed_i</th>\n",
              "      <th>Actions_at_arrest___Combative__</th>\n",
              "      <th>Actions_at_arrest___Resisted__d</th>\n",
              "      <th>Actions_at_arrest___Mental_inst</th>\n",
              "      <th>Actions_at_arrest___Assaulted_o</th>\n",
              "      <th>Actions_at_arrest___Cooperative</th>\n",
              "    </tr>\n",
              "  </thead>\n",
              "  <tbody>\n",
              "    <tr>\n",
              "      <th>0</th>\n",
              "      <td>2020</td>\n",
              "      <td>July-Sept</td>\n",
              "      <td>1005907</td>\n",
              "      <td>6017884.0</td>\n",
              "      <td>326622</td>\n",
              "      <td>White</td>\n",
              "      <td>M</td>\n",
              "      <td>Aged 35 to 44 years</td>\n",
              "      <td>Not a youth</td>\n",
              "      <td>54</td>\n",
              "      <td>0</td>\n",
              "      <td>1</td>\n",
              "      <td>Assault &amp; Other crimes against persons</td>\n",
              "      <td>0</td>\n",
              "      <td>0</td>\n",
              "      <td>0</td>\n",
              "      <td>0</td>\n",
              "      <td>0</td>\n",
              "      <td>1</td>\n",
              "    </tr>\n",
              "    <tr>\n",
              "      <th>1</th>\n",
              "      <td>2020</td>\n",
              "      <td>July-Sept</td>\n",
              "      <td>1014562</td>\n",
              "      <td>6056669.0</td>\n",
              "      <td>326622</td>\n",
              "      <td>White</td>\n",
              "      <td>M</td>\n",
              "      <td>Aged 35 to 44 years</td>\n",
              "      <td>Not a youth</td>\n",
              "      <td>54</td>\n",
              "      <td>0</td>\n",
              "      <td>1</td>\n",
              "      <td>Assault &amp; Other crimes against persons</td>\n",
              "      <td>0</td>\n",
              "      <td>0</td>\n",
              "      <td>0</td>\n",
              "      <td>0</td>\n",
              "      <td>0</td>\n",
              "      <td>0</td>\n",
              "    </tr>\n",
              "    <tr>\n",
              "      <th>2</th>\n",
              "      <td>2020</td>\n",
              "      <td>Oct-Dec</td>\n",
              "      <td>1029922</td>\n",
              "      <td>6057065.0</td>\n",
              "      <td>326622</td>\n",
              "      <td>Unknown or Legacy</td>\n",
              "      <td>M</td>\n",
              "      <td>Aged 35 to 44 years</td>\n",
              "      <td>Not a youth</td>\n",
              "      <td>54</td>\n",
              "      <td>0</td>\n",
              "      <td>1</td>\n",
              "      <td>Assault &amp; Other crimes against persons</td>\n",
              "      <td>0</td>\n",
              "      <td>0</td>\n",
              "      <td>0</td>\n",
              "      <td>0</td>\n",
              "      <td>0</td>\n",
              "      <td>0</td>\n",
              "    </tr>\n",
              "    <tr>\n",
              "      <th>3</th>\n",
              "      <td>2021</td>\n",
              "      <td>Jan-Mar</td>\n",
              "      <td>1052190</td>\n",
              "      <td>6029059.0</td>\n",
              "      <td>327535</td>\n",
              "      <td>Black</td>\n",
              "      <td>M</td>\n",
              "      <td>Aged 25 to 34 years</td>\n",
              "      <td>Not a youth</td>\n",
              "      <td>XX</td>\n",
              "      <td>0</td>\n",
              "      <td>0</td>\n",
              "      <td>Harassment/Threatening</td>\n",
              "      <td>0</td>\n",
              "      <td>0</td>\n",
              "      <td>0</td>\n",
              "      <td>0</td>\n",
              "      <td>0</td>\n",
              "      <td>0</td>\n",
              "    </tr>\n",
              "    <tr>\n",
              "      <th>4</th>\n",
              "      <td>2021</td>\n",
              "      <td>Jan-Mar</td>\n",
              "      <td>1015512</td>\n",
              "      <td>6040372.0</td>\n",
              "      <td>327535</td>\n",
              "      <td>South Asian</td>\n",
              "      <td>M</td>\n",
              "      <td>Aged 25 to 34 years</td>\n",
              "      <td>Not a youth</td>\n",
              "      <td>XX</td>\n",
              "      <td>0</td>\n",
              "      <td>1</td>\n",
              "      <td>FTA/FTC/Compliance Check/Parollee</td>\n",
              "      <td>0</td>\n",
              "      <td>0</td>\n",
              "      <td>0</td>\n",
              "      <td>0</td>\n",
              "      <td>0</td>\n",
              "      <td>0</td>\n",
              "    </tr>\n",
              "  </tbody>\n",
              "</table>\n",
              "</div>\n",
              "      <button class=\"colab-df-convert\" onclick=\"convertToInteractive('df-74b684b8-0297-45b6-a3b7-fddf0318ec06')\"\n",
              "              title=\"Convert this dataframe to an interactive table.\"\n",
              "              style=\"display:none;\">\n",
              "        \n",
              "  <svg xmlns=\"http://www.w3.org/2000/svg\" height=\"24px\"viewBox=\"0 0 24 24\"\n",
              "       width=\"24px\">\n",
              "    <path d=\"M0 0h24v24H0V0z\" fill=\"none\"/>\n",
              "    <path d=\"M18.56 5.44l.94 2.06.94-2.06 2.06-.94-2.06-.94-.94-2.06-.94 2.06-2.06.94zm-11 1L8.5 8.5l.94-2.06 2.06-.94-2.06-.94L8.5 2.5l-.94 2.06-2.06.94zm10 10l.94 2.06.94-2.06 2.06-.94-2.06-.94-.94-2.06-.94 2.06-2.06.94z\"/><path d=\"M17.41 7.96l-1.37-1.37c-.4-.4-.92-.59-1.43-.59-.52 0-1.04.2-1.43.59L10.3 9.45l-7.72 7.72c-.78.78-.78 2.05 0 2.83L4 21.41c.39.39.9.59 1.41.59.51 0 1.02-.2 1.41-.59l7.78-7.78 2.81-2.81c.8-.78.8-2.07 0-2.86zM5.41 20L4 18.59l7.72-7.72 1.47 1.35L5.41 20z\"/>\n",
              "  </svg>\n",
              "      </button>\n",
              "      \n",
              "  <style>\n",
              "    .colab-df-container {\n",
              "      display:flex;\n",
              "      flex-wrap:wrap;\n",
              "      gap: 12px;\n",
              "    }\n",
              "\n",
              "    .colab-df-convert {\n",
              "      background-color: #E8F0FE;\n",
              "      border: none;\n",
              "      border-radius: 50%;\n",
              "      cursor: pointer;\n",
              "      display: none;\n",
              "      fill: #1967D2;\n",
              "      height: 32px;\n",
              "      padding: 0 0 0 0;\n",
              "      width: 32px;\n",
              "    }\n",
              "\n",
              "    .colab-df-convert:hover {\n",
              "      background-color: #E2EBFA;\n",
              "      box-shadow: 0px 1px 2px rgba(60, 64, 67, 0.3), 0px 1px 3px 1px rgba(60, 64, 67, 0.15);\n",
              "      fill: #174EA6;\n",
              "    }\n",
              "\n",
              "    [theme=dark] .colab-df-convert {\n",
              "      background-color: #3B4455;\n",
              "      fill: #D2E3FC;\n",
              "    }\n",
              "\n",
              "    [theme=dark] .colab-df-convert:hover {\n",
              "      background-color: #434B5C;\n",
              "      box-shadow: 0px 1px 3px 1px rgba(0, 0, 0, 0.15);\n",
              "      filter: drop-shadow(0px 1px 2px rgba(0, 0, 0, 0.3));\n",
              "      fill: #FFFFFF;\n",
              "    }\n",
              "  </style>\n",
              "\n",
              "      <script>\n",
              "        const buttonEl =\n",
              "          document.querySelector('#df-74b684b8-0297-45b6-a3b7-fddf0318ec06 button.colab-df-convert');\n",
              "        buttonEl.style.display =\n",
              "          google.colab.kernel.accessAllowed ? 'block' : 'none';\n",
              "\n",
              "        async function convertToInteractive(key) {\n",
              "          const element = document.querySelector('#df-74b684b8-0297-45b6-a3b7-fddf0318ec06');\n",
              "          const dataTable =\n",
              "            await google.colab.kernel.invokeFunction('convertToInteractive',\n",
              "                                                     [key], {});\n",
              "          if (!dataTable) return;\n",
              "\n",
              "          const docLinkHtml = 'Like what you see? Visit the ' +\n",
              "            '<a target=\"_blank\" href=https://colab.research.google.com/notebooks/data_table.ipynb>data table notebook</a>'\n",
              "            + ' to learn more about interactive tables.';\n",
              "          element.innerHTML = '';\n",
              "          dataTable['output_type'] = 'display_data';\n",
              "          await google.colab.output.renderOutput(dataTable, element);\n",
              "          const docLink = document.createElement('div');\n",
              "          docLink.innerHTML = docLinkHtml;\n",
              "          element.appendChild(docLink);\n",
              "        }\n",
              "      </script>\n",
              "    </div>\n",
              "  </div>\n",
              "  "
            ]
          },
          "metadata": {},
          "execution_count": 61
        }
      ]
    },
    {
      "cell_type": "code",
      "source": [
        "#swap the yes and no of column Actions_at_arrest___Cooperative\n",
        "df['Actions_at_arrest___Cooperative'] = df['Actions_at_arrest___Cooperative'].replace({0:1,1:0})\n",
        "#Aggregate the adverse actions at arrest together\n",
        "df['Total_adverse_actions']=df.iloc[:,-6:].sum(axis=1)\n",
        "#Remove missing values\n",
        "df=df.dropna()\n"
      ],
      "metadata": {
        "id": "3C6tgB5moOUt"
      },
      "execution_count": null,
      "outputs": []
    },
    {
      "cell_type": "markdown",
      "source": [
        "**EDA-Data Visualization**"
      ],
      "metadata": {
        "id": "jLujJMsLc1OO"
      }
    },
    {
      "cell_type": "code",
      "source": [
        "df.describe(include='all')\n"
      ],
      "metadata": {
        "colab": {
          "base_uri": "https://localhost:8080/",
          "height": 458
        },
        "id": "TTqwCB92hu6r",
        "outputId": "85fccc47-7ace-40d8-b706-bc633de2b781"
      },
      "execution_count": null,
      "outputs": [
        {
          "output_type": "execute_result",
          "data": {
            "text/plain": [
              "         Arrest_Year Arrest_Month       EventID      ArrestID       PersonID  \\\n",
              "count   64615.000000        64615  6.461500e+04  6.461500e+04   64615.000000   \n",
              "unique           NaN            4           NaN           NaN            NaN   \n",
              "top              NaN      Jan-Mar           NaN           NaN            NaN   \n",
              "freq             NaN        17388           NaN           NaN            NaN   \n",
              "mean     2020.512172          NaN  1.029991e+06  6.032400e+06  318601.913426   \n",
              "std         0.499856          NaN  1.731938e+04  1.870613e+04   10813.930258   \n",
              "min      2020.000000          NaN  1.000000e+06  6.000000e+06  300000.000000   \n",
              "25%      2020.000000          NaN  1.014988e+06  6.016200e+06  309219.500000   \n",
              "50%      2021.000000          NaN  1.029987e+06  6.032402e+06  318594.000000   \n",
              "75%      2021.000000          NaN  1.044998e+06  6.048596e+06  327922.000000   \n",
              "max      2021.000000          NaN  1.060002e+06  6.064804e+06  337346.000000   \n",
              "\n",
              "       Perceived_Race    Sex Age_group__at_arrest_  \\\n",
              "count           64615  64615                 64615   \n",
              "unique              8      3                     9   \n",
              "top             White      M   Aged 25 to 34 years   \n",
              "freq            27407  52106                 20725   \n",
              "mean              NaN    NaN                   NaN   \n",
              "std               NaN    NaN                   NaN   \n",
              "min               NaN    NaN                   NaN   \n",
              "25%               NaN    NaN                   NaN   \n",
              "50%               NaN    NaN                   NaN   \n",
              "75%               NaN    NaN                   NaN   \n",
              "max               NaN    NaN                   NaN   \n",
              "\n",
              "       Youth_at_arrest__under_18_years ArrestLocDiv   StripSearch  \\\n",
              "count                            64615        64615  64615.000000   \n",
              "unique                               3           18           NaN   \n",
              "top                        Not a youth           XX           NaN   \n",
              "freq                             61603        29019           NaN   \n",
              "mean                               NaN          NaN      0.113457   \n",
              "std                                NaN          NaN      0.317153   \n",
              "min                                NaN          NaN      0.000000   \n",
              "25%                                NaN          NaN      0.000000   \n",
              "50%                                NaN          NaN      0.000000   \n",
              "75%                                NaN          NaN      0.000000   \n",
              "max                                NaN          NaN      1.000000   \n",
              "\n",
              "              Booked Occurrence_Category  Actions_at_arrest___Concealed_i  \\\n",
              "count   64615.000000               64615                     64615.000000   \n",
              "unique           NaN                  31                              NaN   \n",
              "top              NaN             Assault                              NaN   \n",
              "freq             NaN                7724                              NaN   \n",
              "mean        0.524383                 NaN                         0.004101   \n",
              "std         0.499409                 NaN                         0.063910   \n",
              "min         0.000000                 NaN                         0.000000   \n",
              "25%         0.000000                 NaN                         0.000000   \n",
              "50%         1.000000                 NaN                         0.000000   \n",
              "75%         1.000000                 NaN                         0.000000   \n",
              "max         1.000000                 NaN                         1.000000   \n",
              "\n",
              "        Actions_at_arrest___Combative__  Actions_at_arrest___Resisted__d  \\\n",
              "count                      64615.000000                     64615.000000   \n",
              "unique                              NaN                              NaN   \n",
              "top                                 NaN                              NaN   \n",
              "freq                                NaN                              NaN   \n",
              "mean                           0.044417                         0.038474   \n",
              "std                            0.206021                         0.192339   \n",
              "min                            0.000000                         0.000000   \n",
              "25%                            0.000000                         0.000000   \n",
              "50%                            0.000000                         0.000000   \n",
              "75%                            0.000000                         0.000000   \n",
              "max                            1.000000                         1.000000   \n",
              "\n",
              "        Actions_at_arrest___Mental_inst  Actions_at_arrest___Assaulted_o  \\\n",
              "count                      64615.000000                     64615.000000   \n",
              "unique                              NaN                              NaN   \n",
              "top                                 NaN                              NaN   \n",
              "freq                                NaN                              NaN   \n",
              "mean                           0.033584                         0.006392   \n",
              "std                            0.180156                         0.079693   \n",
              "min                            0.000000                         0.000000   \n",
              "25%                            0.000000                         0.000000   \n",
              "50%                            0.000000                         0.000000   \n",
              "75%                            0.000000                         0.000000   \n",
              "max                            1.000000                         1.000000   \n",
              "\n",
              "        Actions_at_arrest___Cooperative  Total_adverse_actions  \n",
              "count                      64615.000000           64615.000000  \n",
              "unique                              NaN                    NaN  \n",
              "top                                 NaN                    NaN  \n",
              "freq                                NaN                    NaN  \n",
              "mean                           0.550600               0.677567  \n",
              "std                            0.497437               0.721316  \n",
              "min                            0.000000               0.000000  \n",
              "25%                            0.000000               0.000000  \n",
              "50%                            1.000000               1.000000  \n",
              "75%                            1.000000               1.000000  \n",
              "max                            1.000000               4.000000  "
            ],
            "text/html": [
              "\n",
              "  <div id=\"df-8ebbce18-9885-4c46-bc63-56d8baddfc35\">\n",
              "    <div class=\"colab-df-container\">\n",
              "      <div>\n",
              "<style scoped>\n",
              "    .dataframe tbody tr th:only-of-type {\n",
              "        vertical-align: middle;\n",
              "    }\n",
              "\n",
              "    .dataframe tbody tr th {\n",
              "        vertical-align: top;\n",
              "    }\n",
              "\n",
              "    .dataframe thead th {\n",
              "        text-align: right;\n",
              "    }\n",
              "</style>\n",
              "<table border=\"1\" class=\"dataframe\">\n",
              "  <thead>\n",
              "    <tr style=\"text-align: right;\">\n",
              "      <th></th>\n",
              "      <th>Arrest_Year</th>\n",
              "      <th>Arrest_Month</th>\n",
              "      <th>EventID</th>\n",
              "      <th>ArrestID</th>\n",
              "      <th>PersonID</th>\n",
              "      <th>Perceived_Race</th>\n",
              "      <th>Sex</th>\n",
              "      <th>Age_group__at_arrest_</th>\n",
              "      <th>Youth_at_arrest__under_18_years</th>\n",
              "      <th>ArrestLocDiv</th>\n",
              "      <th>StripSearch</th>\n",
              "      <th>Booked</th>\n",
              "      <th>Occurrence_Category</th>\n",
              "      <th>Actions_at_arrest___Concealed_i</th>\n",
              "      <th>Actions_at_arrest___Combative__</th>\n",
              "      <th>Actions_at_arrest___Resisted__d</th>\n",
              "      <th>Actions_at_arrest___Mental_inst</th>\n",
              "      <th>Actions_at_arrest___Assaulted_o</th>\n",
              "      <th>Actions_at_arrest___Cooperative</th>\n",
              "      <th>Total_adverse_actions</th>\n",
              "    </tr>\n",
              "  </thead>\n",
              "  <tbody>\n",
              "    <tr>\n",
              "      <th>count</th>\n",
              "      <td>64615.000000</td>\n",
              "      <td>64615</td>\n",
              "      <td>6.461500e+04</td>\n",
              "      <td>6.461500e+04</td>\n",
              "      <td>64615.000000</td>\n",
              "      <td>64615</td>\n",
              "      <td>64615</td>\n",
              "      <td>64615</td>\n",
              "      <td>64615</td>\n",
              "      <td>64615</td>\n",
              "      <td>64615.000000</td>\n",
              "      <td>64615.000000</td>\n",
              "      <td>64615</td>\n",
              "      <td>64615.000000</td>\n",
              "      <td>64615.000000</td>\n",
              "      <td>64615.000000</td>\n",
              "      <td>64615.000000</td>\n",
              "      <td>64615.000000</td>\n",
              "      <td>64615.000000</td>\n",
              "      <td>64615.000000</td>\n",
              "    </tr>\n",
              "    <tr>\n",
              "      <th>unique</th>\n",
              "      <td>NaN</td>\n",
              "      <td>4</td>\n",
              "      <td>NaN</td>\n",
              "      <td>NaN</td>\n",
              "      <td>NaN</td>\n",
              "      <td>8</td>\n",
              "      <td>3</td>\n",
              "      <td>9</td>\n",
              "      <td>3</td>\n",
              "      <td>18</td>\n",
              "      <td>NaN</td>\n",
              "      <td>NaN</td>\n",
              "      <td>31</td>\n",
              "      <td>NaN</td>\n",
              "      <td>NaN</td>\n",
              "      <td>NaN</td>\n",
              "      <td>NaN</td>\n",
              "      <td>NaN</td>\n",
              "      <td>NaN</td>\n",
              "      <td>NaN</td>\n",
              "    </tr>\n",
              "    <tr>\n",
              "      <th>top</th>\n",
              "      <td>NaN</td>\n",
              "      <td>Jan-Mar</td>\n",
              "      <td>NaN</td>\n",
              "      <td>NaN</td>\n",
              "      <td>NaN</td>\n",
              "      <td>White</td>\n",
              "      <td>M</td>\n",
              "      <td>Aged 25 to 34 years</td>\n",
              "      <td>Not a youth</td>\n",
              "      <td>XX</td>\n",
              "      <td>NaN</td>\n",
              "      <td>NaN</td>\n",
              "      <td>Assault</td>\n",
              "      <td>NaN</td>\n",
              "      <td>NaN</td>\n",
              "      <td>NaN</td>\n",
              "      <td>NaN</td>\n",
              "      <td>NaN</td>\n",
              "      <td>NaN</td>\n",
              "      <td>NaN</td>\n",
              "    </tr>\n",
              "    <tr>\n",
              "      <th>freq</th>\n",
              "      <td>NaN</td>\n",
              "      <td>17388</td>\n",
              "      <td>NaN</td>\n",
              "      <td>NaN</td>\n",
              "      <td>NaN</td>\n",
              "      <td>27407</td>\n",
              "      <td>52106</td>\n",
              "      <td>20725</td>\n",
              "      <td>61603</td>\n",
              "      <td>29019</td>\n",
              "      <td>NaN</td>\n",
              "      <td>NaN</td>\n",
              "      <td>7724</td>\n",
              "      <td>NaN</td>\n",
              "      <td>NaN</td>\n",
              "      <td>NaN</td>\n",
              "      <td>NaN</td>\n",
              "      <td>NaN</td>\n",
              "      <td>NaN</td>\n",
              "      <td>NaN</td>\n",
              "    </tr>\n",
              "    <tr>\n",
              "      <th>mean</th>\n",
              "      <td>2020.512172</td>\n",
              "      <td>NaN</td>\n",
              "      <td>1.029991e+06</td>\n",
              "      <td>6.032400e+06</td>\n",
              "      <td>318601.913426</td>\n",
              "      <td>NaN</td>\n",
              "      <td>NaN</td>\n",
              "      <td>NaN</td>\n",
              "      <td>NaN</td>\n",
              "      <td>NaN</td>\n",
              "      <td>0.113457</td>\n",
              "      <td>0.524383</td>\n",
              "      <td>NaN</td>\n",
              "      <td>0.004101</td>\n",
              "      <td>0.044417</td>\n",
              "      <td>0.038474</td>\n",
              "      <td>0.033584</td>\n",
              "      <td>0.006392</td>\n",
              "      <td>0.550600</td>\n",
              "      <td>0.677567</td>\n",
              "    </tr>\n",
              "    <tr>\n",
              "      <th>std</th>\n",
              "      <td>0.499856</td>\n",
              "      <td>NaN</td>\n",
              "      <td>1.731938e+04</td>\n",
              "      <td>1.870613e+04</td>\n",
              "      <td>10813.930258</td>\n",
              "      <td>NaN</td>\n",
              "      <td>NaN</td>\n",
              "      <td>NaN</td>\n",
              "      <td>NaN</td>\n",
              "      <td>NaN</td>\n",
              "      <td>0.317153</td>\n",
              "      <td>0.499409</td>\n",
              "      <td>NaN</td>\n",
              "      <td>0.063910</td>\n",
              "      <td>0.206021</td>\n",
              "      <td>0.192339</td>\n",
              "      <td>0.180156</td>\n",
              "      <td>0.079693</td>\n",
              "      <td>0.497437</td>\n",
              "      <td>0.721316</td>\n",
              "    </tr>\n",
              "    <tr>\n",
              "      <th>min</th>\n",
              "      <td>2020.000000</td>\n",
              "      <td>NaN</td>\n",
              "      <td>1.000000e+06</td>\n",
              "      <td>6.000000e+06</td>\n",
              "      <td>300000.000000</td>\n",
              "      <td>NaN</td>\n",
              "      <td>NaN</td>\n",
              "      <td>NaN</td>\n",
              "      <td>NaN</td>\n",
              "      <td>NaN</td>\n",
              "      <td>0.000000</td>\n",
              "      <td>0.000000</td>\n",
              "      <td>NaN</td>\n",
              "      <td>0.000000</td>\n",
              "      <td>0.000000</td>\n",
              "      <td>0.000000</td>\n",
              "      <td>0.000000</td>\n",
              "      <td>0.000000</td>\n",
              "      <td>0.000000</td>\n",
              "      <td>0.000000</td>\n",
              "    </tr>\n",
              "    <tr>\n",
              "      <th>25%</th>\n",
              "      <td>2020.000000</td>\n",
              "      <td>NaN</td>\n",
              "      <td>1.014988e+06</td>\n",
              "      <td>6.016200e+06</td>\n",
              "      <td>309219.500000</td>\n",
              "      <td>NaN</td>\n",
              "      <td>NaN</td>\n",
              "      <td>NaN</td>\n",
              "      <td>NaN</td>\n",
              "      <td>NaN</td>\n",
              "      <td>0.000000</td>\n",
              "      <td>0.000000</td>\n",
              "      <td>NaN</td>\n",
              "      <td>0.000000</td>\n",
              "      <td>0.000000</td>\n",
              "      <td>0.000000</td>\n",
              "      <td>0.000000</td>\n",
              "      <td>0.000000</td>\n",
              "      <td>0.000000</td>\n",
              "      <td>0.000000</td>\n",
              "    </tr>\n",
              "    <tr>\n",
              "      <th>50%</th>\n",
              "      <td>2021.000000</td>\n",
              "      <td>NaN</td>\n",
              "      <td>1.029987e+06</td>\n",
              "      <td>6.032402e+06</td>\n",
              "      <td>318594.000000</td>\n",
              "      <td>NaN</td>\n",
              "      <td>NaN</td>\n",
              "      <td>NaN</td>\n",
              "      <td>NaN</td>\n",
              "      <td>NaN</td>\n",
              "      <td>0.000000</td>\n",
              "      <td>1.000000</td>\n",
              "      <td>NaN</td>\n",
              "      <td>0.000000</td>\n",
              "      <td>0.000000</td>\n",
              "      <td>0.000000</td>\n",
              "      <td>0.000000</td>\n",
              "      <td>0.000000</td>\n",
              "      <td>1.000000</td>\n",
              "      <td>1.000000</td>\n",
              "    </tr>\n",
              "    <tr>\n",
              "      <th>75%</th>\n",
              "      <td>2021.000000</td>\n",
              "      <td>NaN</td>\n",
              "      <td>1.044998e+06</td>\n",
              "      <td>6.048596e+06</td>\n",
              "      <td>327922.000000</td>\n",
              "      <td>NaN</td>\n",
              "      <td>NaN</td>\n",
              "      <td>NaN</td>\n",
              "      <td>NaN</td>\n",
              "      <td>NaN</td>\n",
              "      <td>0.000000</td>\n",
              "      <td>1.000000</td>\n",
              "      <td>NaN</td>\n",
              "      <td>0.000000</td>\n",
              "      <td>0.000000</td>\n",
              "      <td>0.000000</td>\n",
              "      <td>0.000000</td>\n",
              "      <td>0.000000</td>\n",
              "      <td>1.000000</td>\n",
              "      <td>1.000000</td>\n",
              "    </tr>\n",
              "    <tr>\n",
              "      <th>max</th>\n",
              "      <td>2021.000000</td>\n",
              "      <td>NaN</td>\n",
              "      <td>1.060002e+06</td>\n",
              "      <td>6.064804e+06</td>\n",
              "      <td>337346.000000</td>\n",
              "      <td>NaN</td>\n",
              "      <td>NaN</td>\n",
              "      <td>NaN</td>\n",
              "      <td>NaN</td>\n",
              "      <td>NaN</td>\n",
              "      <td>1.000000</td>\n",
              "      <td>1.000000</td>\n",
              "      <td>NaN</td>\n",
              "      <td>1.000000</td>\n",
              "      <td>1.000000</td>\n",
              "      <td>1.000000</td>\n",
              "      <td>1.000000</td>\n",
              "      <td>1.000000</td>\n",
              "      <td>1.000000</td>\n",
              "      <td>4.000000</td>\n",
              "    </tr>\n",
              "  </tbody>\n",
              "</table>\n",
              "</div>\n",
              "      <button class=\"colab-df-convert\" onclick=\"convertToInteractive('df-8ebbce18-9885-4c46-bc63-56d8baddfc35')\"\n",
              "              title=\"Convert this dataframe to an interactive table.\"\n",
              "              style=\"display:none;\">\n",
              "        \n",
              "  <svg xmlns=\"http://www.w3.org/2000/svg\" height=\"24px\"viewBox=\"0 0 24 24\"\n",
              "       width=\"24px\">\n",
              "    <path d=\"M0 0h24v24H0V0z\" fill=\"none\"/>\n",
              "    <path d=\"M18.56 5.44l.94 2.06.94-2.06 2.06-.94-2.06-.94-.94-2.06-.94 2.06-2.06.94zm-11 1L8.5 8.5l.94-2.06 2.06-.94-2.06-.94L8.5 2.5l-.94 2.06-2.06.94zm10 10l.94 2.06.94-2.06 2.06-.94-2.06-.94-.94-2.06-.94 2.06-2.06.94z\"/><path d=\"M17.41 7.96l-1.37-1.37c-.4-.4-.92-.59-1.43-.59-.52 0-1.04.2-1.43.59L10.3 9.45l-7.72 7.72c-.78.78-.78 2.05 0 2.83L4 21.41c.39.39.9.59 1.41.59.51 0 1.02-.2 1.41-.59l7.78-7.78 2.81-2.81c.8-.78.8-2.07 0-2.86zM5.41 20L4 18.59l7.72-7.72 1.47 1.35L5.41 20z\"/>\n",
              "  </svg>\n",
              "      </button>\n",
              "      \n",
              "  <style>\n",
              "    .colab-df-container {\n",
              "      display:flex;\n",
              "      flex-wrap:wrap;\n",
              "      gap: 12px;\n",
              "    }\n",
              "\n",
              "    .colab-df-convert {\n",
              "      background-color: #E8F0FE;\n",
              "      border: none;\n",
              "      border-radius: 50%;\n",
              "      cursor: pointer;\n",
              "      display: none;\n",
              "      fill: #1967D2;\n",
              "      height: 32px;\n",
              "      padding: 0 0 0 0;\n",
              "      width: 32px;\n",
              "    }\n",
              "\n",
              "    .colab-df-convert:hover {\n",
              "      background-color: #E2EBFA;\n",
              "      box-shadow: 0px 1px 2px rgba(60, 64, 67, 0.3), 0px 1px 3px 1px rgba(60, 64, 67, 0.15);\n",
              "      fill: #174EA6;\n",
              "    }\n",
              "\n",
              "    [theme=dark] .colab-df-convert {\n",
              "      background-color: #3B4455;\n",
              "      fill: #D2E3FC;\n",
              "    }\n",
              "\n",
              "    [theme=dark] .colab-df-convert:hover {\n",
              "      background-color: #434B5C;\n",
              "      box-shadow: 0px 1px 3px 1px rgba(0, 0, 0, 0.15);\n",
              "      filter: drop-shadow(0px 1px 2px rgba(0, 0, 0, 0.3));\n",
              "      fill: #FFFFFF;\n",
              "    }\n",
              "  </style>\n",
              "\n",
              "      <script>\n",
              "        const buttonEl =\n",
              "          document.querySelector('#df-8ebbce18-9885-4c46-bc63-56d8baddfc35 button.colab-df-convert');\n",
              "        buttonEl.style.display =\n",
              "          google.colab.kernel.accessAllowed ? 'block' : 'none';\n",
              "\n",
              "        async function convertToInteractive(key) {\n",
              "          const element = document.querySelector('#df-8ebbce18-9885-4c46-bc63-56d8baddfc35');\n",
              "          const dataTable =\n",
              "            await google.colab.kernel.invokeFunction('convertToInteractive',\n",
              "                                                     [key], {});\n",
              "          if (!dataTable) return;\n",
              "\n",
              "          const docLinkHtml = 'Like what you see? Visit the ' +\n",
              "            '<a target=\"_blank\" href=https://colab.research.google.com/notebooks/data_table.ipynb>data table notebook</a>'\n",
              "            + ' to learn more about interactive tables.';\n",
              "          element.innerHTML = '';\n",
              "          dataTable['output_type'] = 'display_data';\n",
              "          await google.colab.output.renderOutput(dataTable, element);\n",
              "          const docLink = document.createElement('div');\n",
              "          docLink.innerHTML = docLinkHtml;\n",
              "          element.appendChild(docLink);\n",
              "        }\n",
              "      </script>\n",
              "    </div>\n",
              "  </div>\n",
              "  "
            ]
          },
          "metadata": {},
          "execution_count": 63
        }
      ]
    },
    {
      "cell_type": "code",
      "source": [
        "# Create a bar chart using seaborn\n",
        "sns.barplot(data=df, x='Perceived_Race', y='Total_adverse_actions',estimator=len)\n",
        "# Rotate xlabel\n",
        "plt.xticks(rotation=90)\n",
        "# Add chart title and axis label\n",
        "plt.title('Number of people get arrested by perceived race')\n",
        "plt.ylabel('Number of people get arrested')\n",
        "plt.xlabel('Perceived race')"
      ],
      "metadata": {
        "colab": {
          "base_uri": "https://localhost:8080/",
          "height": 426
        },
        "id": "bz8whAC9gxav",
        "outputId": "c0034829-1860-44d4-8954-9a87775df12f"
      },
      "execution_count": null,
      "outputs": [
        {
          "output_type": "execute_result",
          "data": {
            "text/plain": [
              "Text(0.5, 0, 'Perceived race')"
            ]
          },
          "metadata": {},
          "execution_count": 64
        },
        {
          "output_type": "display_data",
          "data": {
            "text/plain": [
              "<Figure size 432x288 with 1 Axes>"
            ],
            "image/png": "[encoded data removed]"
          },
          "metadata": {
            "needs_background": "light"
          }
        }
      ]
    },
    {
      "cell_type": "code",
      "source": [
        "# Create a box chart using seaborn\n",
        "plt2 = sns.boxplot(x=\"Perceived_Race\", y=\"Total_adverse_actions\", data=df)\n",
        "plt2.set_title('Total adverse actions by perceived race')\n",
        "plt.ylabel('Total adverse actions at arrest ')\n",
        "plt.xlabel('Perceived race')\n",
        "# Adjust font size\n",
        "sns.set(font_scale = 1.2)\n",
        "# Rotate xlabel\n",
        "plt.xticks(rotation=90)\n"
      ],
      "metadata": {
        "colab": {
          "base_uri": "https://localhost:8080/",
          "height": 571
        },
        "id": "F5MC6KZtd6CD",
        "outputId": "0dc9b967-2601-4771-d6c3-3d48fb892632"
      },
      "execution_count": null,
      "outputs": [
        {
          "output_type": "execute_result",
          "data": {
            "text/plain": [
              "(array([0, 1, 2, 3, 4, 5, 6, 7]),\n",
              " [Text(0, 0, 'White'),\n",
              "  Text(1, 0, 'Unknown or Legacy'),\n",
              "  Text(2, 0, 'Black'),\n",
              "  Text(3, 0, 'South Asian'),\n",
              "  Text(4, 0, 'Indigenous'),\n",
              "  Text(5, 0, 'Middle-Eastern'),\n",
              "  Text(6, 0, 'Latino'),\n",
              "  Text(7, 0, 'East/Southeast Asian')])"
            ]
          },
          "metadata": {},
          "execution_count": 65
        },
        {
          "output_type": "display_data",
          "data": {
            "text/plain": [
              "<Figure size 432x288 with 1 Axes>"
            ],
            "image/png": "[encoded data removed]"
          },
          "metadata": {
            "needs_background": "light"
          }
        }
      ]
    },
    {
      "cell_type": "code",
      "source": [
        "# Filter the data \n",
        "df_filtered = df[df['Sex'] != 'U']\n",
        "# create barplot using seaborn\n",
        "plt3=sns.barplot(x='Age_group__at_arrest_', y='Total_adverse_actions', hue= 'Sex', data=df_filtered, palette=['blue', 'red'], estimator=len)\n",
        "# set the legend\n",
        "plt3.legend(bbox_to_anchor=(1, 1.02), loc='upper left')\n",
        "# Set the chart title and axis label \n",
        "plt.title('Number of people get arrested by age group at arrest and sex')\n",
        "plt.ylabel('Number of people get arrested')\n",
        "plt.xlabel('Age Group at Arrest')\n",
        "# Rotate xlabel\n",
        "plt.xticks(rotation=90)\n",
        "# Adjust font size\n",
        "sns.set(font_scale = 1.0)"
      ],
      "metadata": {
        "colab": {
          "base_uri": "https://localhost:8080/",
          "height": 478
        },
        "id": "ju9vhO4XrV0d",
        "outputId": "53d4577e-5ae1-4c5b-83fc-0098ca1c963c"
      },
      "execution_count": null,
      "outputs": [
        {
          "output_type": "display_data",
          "data": {
            "text/plain": [
              "<Figure size 432x288 with 1 Axes>"
            ],
            "image/png": "[encoded data removed]"
          },
          "metadata": {}
        }
      ]
    },
    {
      "cell_type": "code",
      "source": [
        "# Filter the data \n",
        "df_filtered = df[df['Sex'] != 'U']\n",
        "# create barplot using seaborn\n",
        "plt4= sns.boxplot(x='Age_group__at_arrest_', y='Total_adverse_actions', hue='Sex', palette=['blue', 'red'], data=df_filtered)\n",
        "# set the legend\n",
        "plt4.legend(bbox_to_anchor=(1, 1.02), loc='upper left')\n",
        "# Rotate xlabel\n",
        "plt.xticks(rotation=90)\n",
        "# Set the chart title and asix label\n",
        "plt.title(\"Total adverse actions by age group at arrest\")\n",
        "plt.ylabel('Total adverse actions at arrest ')\n",
        "plt.xlabel('Age Group at Arrest')\n",
        "# Adjust font size\n",
        "sns.set(font_scale = 1.0)"
      ],
      "metadata": {
        "colab": {
          "base_uri": "https://localhost:8080/",
          "height": 444
        },
        "id": "j6daMdkFQ2i2",
        "outputId": "d9d84995-89f0-446e-e4ec-8beccf58e91a"
      },
      "execution_count": null,
      "outputs": [
        {
          "output_type": "display_data",
          "data": {
            "text/plain": [
              "<Figure size 432x288 with 1 Axes>"
            ],
            "image/png": "[encoded data removed]"
          },
          "metadata": {}
        }
      ]
    },
    {
      "cell_type": "code",
      "source": [
        "# Group data by age group\n",
        "df_grouped = df.groupby(['Youth_at_arrest__under_18_years', 'Total_adverse_actions']).size().reset_index(name='count')\n",
        "# Replace 'Youth (aged 17 years and under)' with 'Youth (aged 17 and younger)', and rename new group as youth\n",
        "df_grouped['Youth_at_arrest__under_18_years'] = df_grouped['Youth_at_arrest__under_18_years'].replace(['Youth (aged 17 years and under)', 'Youth (aged 17 and younger)'],'youth')\n",
        "# Plot boxplot\n",
        "plt5= sns.boxplot(x='Youth_at_arrest__under_18_years', y='Total_adverse_actions', data= df_grouped)\n",
        "# Rotate xlabel\n",
        "plt.xticks(rotation=90)\n",
        "# Add title and axis labels\n",
        "plt.title('Adverse actions by youth at arrest under 18 years')\n",
        "plt.ylabel('Total adverse actions at arrest ')\n",
        "plt.xlabel('Youth at arrest under 18 years')\n",
        "\n"
      ],
      "metadata": {
        "colab": {
          "base_uri": "https://localhost:8080/",
          "height": 373
        },
        "id": "cQKZd7MdXK9Q",
        "outputId": "9565774a-e0d9-4833-f808-7f79c92a5dd8"
      },
      "execution_count": null,
      "outputs": [
        {
          "output_type": "execute_result",
          "data": {
            "text/plain": [
              "Text(0.5, 0, 'Youth at arrest under 18 years')"
            ]
          },
          "metadata": {},
          "execution_count": 68
        },
        {
          "output_type": "display_data",
          "data": {
            "text/plain": [
              "<Figure size 432x288 with 1 Axes>"
            ],
            "image/png": "[encoded data removed]"
          },
          "metadata": {}
        }
      ]
    },
    {
      "cell_type": "markdown",
      "source": [
        "**T-test 1: Sex and adverse actions at arrest**"
      ],
      "metadata": {
        "id": "9s4qZfPV2kRj"
      }
    },
    {
      "cell_type": "code",
      "source": [
        "def welch_dof(x, y): \n",
        "    '''\n",
        "    Takes in outcome values for binary features\n",
        "    Returns degrees of freedom \n",
        "    '''\n",
        "    dof = (x.var()/x.size + y.var()/y.size)**2 / ((x.var()/x.size)**2 / (x.size-1) + (y.var()/y.size)**2 / (y.size-1))\n",
        "    return dof"
      ],
      "metadata": {
        "id": "6pzld3HS2njB"
      },
      "execution_count": null,
      "outputs": []
    },
    {
      "cell_type": "code",
      "source": [
        "df['Sex'].unique()"
      ],
      "metadata": {
        "id": "CkHnZUSC6yJo",
        "colab": {
          "base_uri": "https://localhost:8080/"
        },
        "outputId": "51da18a5-a451-49c4-a698-085ee281c330"
      },
      "execution_count": null,
      "outputs": [
        {
          "output_type": "execute_result",
          "data": {
            "text/plain": [
              "array(['M', 'F', 'U'], dtype=object)"
            ]
          },
          "metadata": {},
          "execution_count": 70
        }
      ]
    },
    {
      "cell_type": "code",
      "source": [
        "#create sex groups from dataset \n",
        "sex_F = df[df['Sex']=='F']\n",
        "sex_M = df[df['Sex']=='M']\n",
        "\n",
        "#get number of rows of each sub-dataset\n",
        "print(sex_F.shape[0])\n",
        "print(sex_M.shape[0])\n",
        "\n",
        "taa_F = sex_F['Total_adverse_actions']\n",
        "taa_M = sex_M['Total_adverse_actions']\n",
        "\n",
        "#conduct ttest\n",
        "print('Ttest results for total adverse actions at arrest:',stats.ttest_ind(taa_F, taa_M, equal_var=False)) #p value is significant"
      ],
      "metadata": {
        "colab": {
          "base_uri": "https://localhost:8080/"
        },
        "id": "oRl7vQCc8sIh",
        "outputId": "ed273793-a84d-4e14-cf8f-7962c60368fc"
      },
      "execution_count": null,
      "outputs": [
        {
          "output_type": "stream",
          "name": "stdout",
          "text": [
            "12500\n",
            "52106\n",
            "Ttest results for total adverse actions at arrest: Ttest_indResult(statistic=3.147227611937536, pvalue=0.001650833116985814)\n"
          ]
        }
      ]
    },
    {
      "cell_type": "code",
      "source": [
        "#calculate mean and standard deviation of groups \n",
        "#Female suspects show higher mean total adverse actions at arrest \n",
        "print('Mean total adverse actions at arrest, Female, Male:',taa_F.mean(), taa_M.mean())\n",
        "print('Standard deviation for total adverse actions at arrest, Female, Male:',taa_F.std(), taa_M.std())"
      ],
      "metadata": {
        "colab": {
          "base_uri": "https://localhost:8080/"
        },
        "id": "3RFrofzB9bnC",
        "outputId": "1947f6a5-2bdf-4380-a65d-fade448384ac"
      },
      "execution_count": null,
      "outputs": [
        {
          "output_type": "stream",
          "name": "stdout",
          "text": [
            "Mean total adverse actions at arrest, Female, Male: 0.69584 0.6731278547576095\n",
            "Standard deviation for total adverse actions at arrest, Female, Male: 0.7256506183457659 0.7201530083801411\n"
          ]
        }
      ]
    },
    {
      "cell_type": "code",
      "source": [
        "# compute confidence interval \n",
        "cm = sms.CompareMeans(sms.DescrStatsW(taa_F), sms.DescrStatsW(taa_M))\n",
        "print('Confidence interval for total adverse actions at arrest:',cm.tconfint_diff(usevar='unequal'))"
      ],
      "metadata": {
        "colab": {
          "base_uri": "https://localhost:8080/"
        },
        "id": "eq94fIqtAILI",
        "outputId": "8eb2263c-2c3e-4278-a002-9c86142583be"
      },
      "execution_count": null,
      "outputs": [
        {
          "output_type": "stream",
          "name": "stdout",
          "text": [
            "Confidence interval for total adverse actions at arrest: (0.008567046580899382, 0.03685724390388165)\n"
          ]
        }
      ]
    },
    {
      "cell_type": "code",
      "source": [
        "#welch dof \n",
        "print('DOF for total adverse actions at arrest:',welch_dof(taa_F, taa_M))"
      ],
      "metadata": {
        "colab": {
          "base_uri": "https://localhost:8080/"
        },
        "id": "s_DdL7ODAtMQ",
        "outputId": "5f4840af-1875-46fa-cbd8-ac6b4f7db3a9"
      },
      "execution_count": null,
      "outputs": [
        {
          "output_type": "stream",
          "name": "stdout",
          "text": [
            "DOF for total adverse actions at arrest: 18850.71265891232\n"
          ]
        }
      ]
    },
    {
      "cell_type": "code",
      "source": [
        "#Create table\n",
        "import pandas as pd\n",
        "datatest1 = pd.DataFrame({'statistic': 3.147227611937536, 'pvalue': 0.001650833116985814, 'Mean F': 0.69584 , 'Mean M': 0.6731278547576095, 'sd F': 0.7256506183457659, 'sd M': 0.7201530083801411,\n",
        "                          'CI': '(0.008567046580899382, 0.03685724390388165)', 'DOF': 18850.71265891232}, index=[0])\n",
        "\n",
        "\n",
        "print(datatest1)"
      ],
      "metadata": {
        "colab": {
          "base_uri": "https://localhost:8080/"
        },
        "id": "LK6Cek5ZDsf_",
        "outputId": "30fc301e-3723-4dfb-e45f-7cb43c3e2e77"
      },
      "execution_count": null,
      "outputs": [
        {
          "output_type": "stream",
          "name": "stdout",
          "text": [
            "   statistic    pvalue   Mean F    Mean M      sd F      sd M  \\\n",
            "0   3.147228  0.001651  0.69584  0.673128  0.725651  0.720153   \n",
            "\n",
            "                                            CI           DOF  \n",
            "0  (0.008567046580899382, 0.03685724390388165)  18850.712659  \n"
          ]
        }
      ]
    },
    {
      "cell_type": "markdown",
      "source": [
        "**T-test 2: Age(Youth) and adverse actions at arrest**"
      ],
      "metadata": {
        "id": "3W_HKhqoDMRq"
      }
    },
    {
      "cell_type": "code",
      "source": [
        "df['Youth_at_arrest__under_18_years'].unique()"
      ],
      "metadata": {
        "colab": {
          "base_uri": "https://localhost:8080/"
        },
        "id": "oUiGmr1kDXQR",
        "outputId": "ef3e6a7e-9da3-412c-9aeb-cb598e2425e2"
      },
      "execution_count": null,
      "outputs": [
        {
          "output_type": "execute_result",
          "data": {
            "text/plain": [
              "array(['Not a youth', 'Youth (aged 17 and younger)',\n",
              "       'Youth (aged 17 years and under)'], dtype=object)"
            ]
          },
          "metadata": {},
          "execution_count": 76
        }
      ]
    },
    {
      "cell_type": "code",
      "source": [
        "#create age groups from dataset \n",
        "youth_y = df[df['Youth_at_arrest__under_18_years'].isin(['Youth (aged 17 and younger)' , 'Youth (aged 17 years and under)'])]\n",
        "youth_n = df[df['Youth_at_arrest__under_18_years']=='Not a youth']\n",
        "\n",
        "#get number of rows of each sub-dataset\n",
        "print(youth_y.shape[0])\n",
        "print(youth_n.shape[0])\n",
        "\n",
        "taa_y = youth_y['Total_adverse_actions']\n",
        "taa_n = youth_n['Total_adverse_actions']\n",
        "\n",
        "#conduct ttest\n",
        "print('Ttest results for total adverse actions at arrest:',stats.ttest_ind(taa_y, taa_n, equal_var=False)) #p value is significant"
      ],
      "metadata": {
        "colab": {
          "base_uri": "https://localhost:8080/"
        },
        "id": "WPQLdzPoMkAv",
        "outputId": "9c9eb100-55b2-416c-afb9-a3039dd0a6e9"
      },
      "execution_count": null,
      "outputs": [
        {
          "output_type": "stream",
          "name": "stdout",
          "text": [
            "3012\n",
            "61603\n",
            "Ttest results for total adverse actions at arrest: Ttest_indResult(statistic=-6.646632192508723, pvalue=3.4778796282425664e-11)\n"
          ]
        }
      ]
    },
    {
      "cell_type": "code",
      "source": [
        "#calculate mean and standard deviation of groups \n",
        "#Youth suspects show higher mean total adverse actions at arrest \n",
        "print('Mean total adverse actions at arrest, Youth, Adult:',taa_y.mean(), taa_n.mean())\n",
        "print('Standard deviation for total adverse actions at arrest, Youth, Adult:',taa_y.std(), taa_n.std())"
      ],
      "metadata": {
        "colab": {
          "base_uri": "https://localhost:8080/"
        },
        "id": "npo29jc1SLoA",
        "outputId": "ca0c1b14-3f42-4881-c740-6b8a9034ddb0"
      },
      "execution_count": null,
      "outputs": [
        {
          "output_type": "stream",
          "name": "stdout",
          "text": [
            "Mean total adverse actions at arrest, Youth, Adult: 0.602257636122178 0.6812492898073146\n",
            "Standard deviation for total adverse actions at arrest, Youth, Adult: 0.6322204043522315 0.7251954420602996\n"
          ]
        }
      ]
    },
    {
      "cell_type": "code",
      "source": [
        "# compute confidence interval \n",
        "cm = sms.CompareMeans(sms.DescrStatsW(taa_y), sms.DescrStatsW(taa_n))\n",
        "print('Confidence interval for total adverse actions at arrest:',cm.tconfint_diff(usevar='unequal'))"
      ],
      "metadata": {
        "colab": {
          "base_uri": "https://localhost:8080/"
        },
        "id": "KQHE2dJFSrK3",
        "outputId": "6b1fc85f-10ff-4979-8f20-8660313cdc8a"
      },
      "execution_count": null,
      "outputs": [
        {
          "output_type": "stream",
          "name": "stdout",
          "text": [
            "Confidence interval for total adverse actions at arrest: (-0.10229304318502694, -0.05569026418524628)\n"
          ]
        }
      ]
    },
    {
      "cell_type": "code",
      "source": [
        "import pandas as pd\n",
        "datatest2 = pd.DataFrame({'statistic': -6.646632192508723, 'pvalue': 3.4778796282425664e-11, 'Mean Y': 0.602257636122178, 'Mean A': 0.6812492898073146, 'sd Y': 0.6322204043522315, 'sd A': 0.7251954420602996,'CI': '(-0.10229304318502694, -0.05569026418524628)'}, index=[0])\n",
        "\n",
        "\n",
        "print(datatest2)"
      ],
      "metadata": {
        "colab": {
          "base_uri": "https://localhost:8080/"
        },
        "id": "fTw9CQLgH5w-",
        "outputId": "849d77b2-b900-4f04-ebb4-22ad669595f9"
      },
      "execution_count": null,
      "outputs": [
        {
          "output_type": "stream",
          "name": "stdout",
          "text": [
            "   statistic        pvalue    Mean Y    Mean A     sd Y      sd A  \\\n",
            "0  -6.646632  3.477880e-11  0.602258  0.681249  0.63222  0.725195   \n",
            "\n",
            "                                             CI  \n",
            "0  (-0.10229304318502694, -0.05569026418524628)  \n"
          ]
        }
      ]
    },
    {
      "cell_type": "markdown",
      "source": [
        "**One way ANOVA - Race & total adverse actions at arrest**"
      ],
      "metadata": {
        "id": "CU2rWN7SdGKV"
      }
    },
    {
      "cell_type": "code",
      "source": [
        "df['Perceived_Race'].unique()"
      ],
      "metadata": {
        "colab": {
          "base_uri": "https://localhost:8080/"
        },
        "id": "aumsXDM0dLHl",
        "outputId": "66b0009b-6f5c-4512-9be5-0bed27a006d2"
      },
      "execution_count": null,
      "outputs": [
        {
          "output_type": "execute_result",
          "data": {
            "text/plain": [
              "array(['White', 'Unknown or Legacy', 'Black', 'South Asian', 'Indigenous',\n",
              "       'Middle-Eastern', 'Latino', 'East/Southeast Asian'], dtype=object)"
            ]
          },
          "metadata": {},
          "execution_count": 81
        }
      ]
    },
    {
      "cell_type": "code",
      "source": [
        "#separate into different racial groups\n",
        "taa_W = df[df['Perceived_Race'] == 'White']['Total_adverse_actions']\n",
        "taa_B = df[df['Perceived_Race'] == 'Black']['Total_adverse_actions']\n",
        "taa_Asia = df[df['Perceived_Race'].isin(['South Asian' , 'East/Southeast Asian'])]['Total_adverse_actions']\n",
        "taa_Other = df[df['Perceived_Race'].isin(['Middle-Eastern' , 'Latino', 'Indigenous'])]['Total_adverse_actions']"
      ],
      "metadata": {
        "id": "MfQwiliUdnVe"
      },
      "execution_count": null,
      "outputs": []
    },
    {
      "cell_type": "code",
      "source": [
        "#Create a new df for this ANOVA\n",
        "df_without_UnknownOrLegacy = df[df['Perceived_Race'] != 'Unknown or Legacy']\n",
        "dfANOVA1 = df_without_UnknownOrLegacy.replace({'Perceived_Race' : { 'South Asian' : 'Asian', 'East/Southeast Asian': 'Asian', 'Indigenous' : 'Other', 'Middle-Eastern' : 'Other', 'Latino': 'Other' }})\n",
        "dfANOVA1.shape[0]"
      ],
      "metadata": {
        "colab": {
          "base_uri": "https://localhost:8080/"
        },
        "id": "rVhIfT7qtYEg",
        "outputId": "530b49fa-c849-4026-b181-311a2648e25b"
      },
      "execution_count": null,
      "outputs": [
        {
          "output_type": "execute_result",
          "data": {
            "text/plain": [
              "59613"
            ]
          },
          "metadata": {},
          "execution_count": 83
        }
      ]
    },
    {
      "cell_type": "code",
      "source": [
        "from scipy.stats import f_oneway\n",
        "\n",
        "# One-way ANOVA\n",
        "statistic1, pvalue1 = f_oneway(taa_W, taa_Asia, taa_B, taa_Other)\n",
        "\n",
        "print(f'One-way ANOVA: s = {statistic1}, p = {pvalue1}')"
      ],
      "metadata": {
        "colab": {
          "base_uri": "https://localhost:8080/"
        },
        "id": "2shBoZrAffld",
        "outputId": "935ae9cc-a4c9-49f5-c431-bf36d69538ad"
      },
      "execution_count": null,
      "outputs": [
        {
          "output_type": "stream",
          "name": "stdout",
          "text": [
            "One-way ANOVA: s = 52.26377561222336, p = 9.992511720477068e-34\n"
          ]
        }
      ]
    },
    {
      "cell_type": "code",
      "source": [
        "import statsmodels.api as sm\n",
        "from statsmodels.formula.api import ols\n",
        "model1 = ols('Total_adverse_actions ~ C(Perceived_Race)', data=dfANOVA1).fit()\n",
        "anova_table = sm.stats.anova_lm(model1, typ=2)\n",
        "anova_table"
      ],
      "metadata": {
        "colab": {
          "base_uri": "https://localhost:8080/",
          "height": 112
        },
        "id": "BaLcZZ2iAcVP",
        "outputId": "1f006e82-d12c-4c81-c8c2-a86820c001e3"
      },
      "execution_count": null,
      "outputs": [
        {
          "output_type": "execute_result",
          "data": {
            "text/plain": [
              "                         sum_sq       df          F        PR(>F)\n",
              "C(Perceived_Race)     82.378001      3.0  52.263776  9.992512e-34\n",
              "Residual           31318.507041  59609.0        NaN           NaN"
            ],
            "text/html": [
              "\n",
              "  <div id=\"df-27468af2-ee3d-4dcb-871d-f804f43505e8\">\n",
              "    <div class=\"colab-df-container\">\n",
              "      <div>\n",
              "<style scoped>\n",
              "    .dataframe tbody tr th:only-of-type {\n",
              "        vertical-align: middle;\n",
              "    }\n",
              "\n",
              "    .dataframe tbody tr th {\n",
              "        vertical-align: top;\n",
              "    }\n",
              "\n",
              "    .dataframe thead th {\n",
              "        text-align: right;\n",
              "    }\n",
              "</style>\n",
              "<table border=\"1\" class=\"dataframe\">\n",
              "  <thead>\n",
              "    <tr style=\"text-align: right;\">\n",
              "      <th></th>\n",
              "      <th>sum_sq</th>\n",
              "      <th>df</th>\n",
              "      <th>F</th>\n",
              "      <th>PR(&gt;F)</th>\n",
              "    </tr>\n",
              "  </thead>\n",
              "  <tbody>\n",
              "    <tr>\n",
              "      <th>C(Perceived_Race)</th>\n",
              "      <td>82.378001</td>\n",
              "      <td>3.0</td>\n",
              "      <td>52.263776</td>\n",
              "      <td>9.992512e-34</td>\n",
              "    </tr>\n",
              "    <tr>\n",
              "      <th>Residual</th>\n",
              "      <td>31318.507041</td>\n",
              "      <td>59609.0</td>\n",
              "      <td>NaN</td>\n",
              "      <td>NaN</td>\n",
              "    </tr>\n",
              "  </tbody>\n",
              "</table>\n",
              "</div>\n",
              "      <button class=\"colab-df-convert\" onclick=\"convertToInteractive('df-27468af2-ee3d-4dcb-871d-f804f43505e8')\"\n",
              "              title=\"Convert this dataframe to an interactive table.\"\n",
              "              style=\"display:none;\">\n",
              "        \n",
              "  <svg xmlns=\"http://www.w3.org/2000/svg\" height=\"24px\"viewBox=\"0 0 24 24\"\n",
              "       width=\"24px\">\n",
              "    <path d=\"M0 0h24v24H0V0z\" fill=\"none\"/>\n",
              "    <path d=\"M18.56 5.44l.94 2.06.94-2.06 2.06-.94-2.06-.94-.94-2.06-.94 2.06-2.06.94zm-11 1L8.5 8.5l.94-2.06 2.06-.94-2.06-.94L8.5 2.5l-.94 2.06-2.06.94zm10 10l.94 2.06.94-2.06 2.06-.94-2.06-.94-.94-2.06-.94 2.06-2.06.94z\"/><path d=\"M17.41 7.96l-1.37-1.37c-.4-.4-.92-.59-1.43-.59-.52 0-1.04.2-1.43.59L10.3 9.45l-7.72 7.72c-.78.78-.78 2.05 0 2.83L4 21.41c.39.39.9.59 1.41.59.51 0 1.02-.2 1.41-.59l7.78-7.78 2.81-2.81c.8-.78.8-2.07 0-2.86zM5.41 20L4 18.59l7.72-7.72 1.47 1.35L5.41 20z\"/>\n",
              "  </svg>\n",
              "      </button>\n",
              "      \n",
              "  <style>\n",
              "    .colab-df-container {\n",
              "      display:flex;\n",
              "      flex-wrap:wrap;\n",
              "      gap: 12px;\n",
              "    }\n",
              "\n",
              "    .colab-df-convert {\n",
              "      background-color: #E8F0FE;\n",
              "      border: none;\n",
              "      border-radius: 50%;\n",
              "      cursor: pointer;\n",
              "      display: none;\n",
              "      fill: #1967D2;\n",
              "      height: 32px;\n",
              "      padding: 0 0 0 0;\n",
              "      width: 32px;\n",
              "    }\n",
              "\n",
              "    .colab-df-convert:hover {\n",
              "      background-color: #E2EBFA;\n",
              "      box-shadow: 0px 1px 2px rgba(60, 64, 67, 0.3), 0px 1px 3px 1px rgba(60, 64, 67, 0.15);\n",
              "      fill: #174EA6;\n",
              "    }\n",
              "\n",
              "    [theme=dark] .colab-df-convert {\n",
              "      background-color: #3B4455;\n",
              "      fill: #D2E3FC;\n",
              "    }\n",
              "\n",
              "    [theme=dark] .colab-df-convert:hover {\n",
              "      background-color: #434B5C;\n",
              "      box-shadow: 0px 1px 3px 1px rgba(0, 0, 0, 0.15);\n",
              "      filter: drop-shadow(0px 1px 2px rgba(0, 0, 0, 0.3));\n",
              "      fill: #FFFFFF;\n",
              "    }\n",
              "  </style>\n",
              "\n",
              "      <script>\n",
              "        const buttonEl =\n",
              "          document.querySelector('#df-27468af2-ee3d-4dcb-871d-f804f43505e8 button.colab-df-convert');\n",
              "        buttonEl.style.display =\n",
              "          google.colab.kernel.accessAllowed ? 'block' : 'none';\n",
              "\n",
              "        async function convertToInteractive(key) {\n",
              "          const element = document.querySelector('#df-27468af2-ee3d-4dcb-871d-f804f43505e8');\n",
              "          const dataTable =\n",
              "            await google.colab.kernel.invokeFunction('convertToInteractive',\n",
              "                                                     [key], {});\n",
              "          if (!dataTable) return;\n",
              "\n",
              "          const docLinkHtml = 'Like what you see? Visit the ' +\n",
              "            '<a target=\"_blank\" href=https://colab.research.google.com/notebooks/data_table.ipynb>data table notebook</a>'\n",
              "            + ' to learn more about interactive tables.';\n",
              "          element.innerHTML = '';\n",
              "          dataTable['output_type'] = 'display_data';\n",
              "          await google.colab.output.renderOutput(dataTable, element);\n",
              "          const docLink = document.createElement('div');\n",
              "          docLink.innerHTML = docLinkHtml;\n",
              "          element.appendChild(docLink);\n",
              "        }\n",
              "      </script>\n",
              "    </div>\n",
              "  </div>\n",
              "  "
            ]
          },
          "metadata": {},
          "execution_count": 85
        }
      ]
    },
    {
      "cell_type": "code",
      "source": [
        "def get_significance(p):\n",
        "    \"\"\"Returns the significance of a p-values as a string of stars.\"\"\"\n",
        "    if p <= 0.001:\n",
        "        return '***'\n",
        "    elif p <= 0.01:\n",
        "        return '**'\n",
        "    elif p <= 0.05:\n",
        "        return '*'\n",
        "    elif p <= 0.1:\n",
        "        return '.'\n",
        "    else:\n",
        "        return ''\n",
        "\n",
        "\n",
        "def round_p_value(p):\n",
        "    \"\"\"Round a small p-value so that it is human-readable.\"\"\"\n",
        "    if p < 0.001:\n",
        "        return '<0.001'\n",
        "    else:\n",
        "        return f'{p:5.3}'\n",
        "\n",
        "\n",
        "p_rounded1 = round_p_value(pvalue1)\n",
        "significance1 = get_significance(pvalue1)\n",
        "print(f'The p-value is {p_rounded1} ({significance1})')"
      ],
      "metadata": {
        "colab": {
          "base_uri": "https://localhost:8080/"
        },
        "id": "kNLtoTLRhXfC",
        "outputId": "26fbdfc8-9a48-45c3-a261-145ff12dccd1"
      },
      "execution_count": null,
      "outputs": [
        {
          "output_type": "stream",
          "name": "stdout",
          "text": [
            "The p-value is <0.001 (***)\n"
          ]
        }
      ]
    },
    {
      "cell_type": "code",
      "source": [
        "#1 way anova with tukey hsd\n",
        "import pandas as pd\n",
        "import numpy as np\n",
        "from scipy.stats import f_oneway\n",
        "from statsmodels.stats.multicomp import pairwise_tukeyhsd\n",
        "# perform Tukey's test\n",
        "tukey = pairwise_tukeyhsd(endog=dfANOVA1['Total_adverse_actions'],\n",
        "                          groups=dfANOVA1['Perceived_Race'],\n",
        "                          alpha=0.05)\n",
        "\n",
        "#display results\n",
        "print(tukey)"
      ],
      "metadata": {
        "colab": {
          "base_uri": "https://localhost:8080/"
        },
        "id": "g_Su21iShaQS",
        "outputId": "dbd3a44b-93ea-4d13-eba8-8332b913dbec"
      },
      "execution_count": null,
      "outputs": [
        {
          "output_type": "stream",
          "name": "stdout",
          "text": [
            "Multiple Comparison of Means - Tukey HSD, FWER=0.05\n",
            "===================================================\n",
            "group1 group2 meandiff p-adj  lower   upper  reject\n",
            "---------------------------------------------------\n",
            " Asian  Black   0.1224 0.001  0.0972  0.1476   True\n",
            " Asian  Other   0.0833 0.001  0.0526  0.1139   True\n",
            " Asian  White   0.0895 0.001  0.0658  0.1132   True\n",
            " Black  Other  -0.0391 0.001 -0.0656 -0.0126   True\n",
            " Black  White  -0.0329 0.001  -0.051 -0.0148   True\n",
            " Other  White   0.0062   0.9 -0.0189  0.0313  False\n",
            "---------------------------------------------------\n"
          ]
        }
      ]
    },
    {
      "cell_type": "markdown",
      "source": [
        "**Two-way ANOVA - Gender, Age & total adverse actions at arrest**"
      ],
      "metadata": {
        "id": "693V_RzoHFjO"
      }
    },
    {
      "cell_type": "code",
      "source": [
        "df['Youth_at_arrest__under_18_years'].unique()"
      ],
      "metadata": {
        "colab": {
          "base_uri": "https://localhost:8080/"
        },
        "id": "C4m5VC-7YpJY",
        "outputId": "3b81e933-8d08-4e57-a3bb-1300fe984497"
      },
      "execution_count": null,
      "outputs": [
        {
          "output_type": "execute_result",
          "data": {
            "text/plain": [
              "array(['Not a youth', 'Youth (aged 17 and younger)',\n",
              "       'Youth (aged 17 years and under)'], dtype=object)"
            ]
          },
          "metadata": {},
          "execution_count": 88
        }
      ]
    },
    {
      "cell_type": "code",
      "source": [
        "#Create a new df for this 2 way ANOVA\n",
        "df_2_way_prep = df[df['Sex'] != 'U']\n",
        "dfANOVA2 = df_2_way_prep.replace({'Youth_at_arrest__under_18_years' : { 'Youth (aged 17 and younger)' : 'Youth', 'Youth (aged 17 years and under)': 'Youth', 'Not a youth' : 'Adult'}})\n",
        "dfANOVA2.shape[0]"
      ],
      "metadata": {
        "colab": {
          "base_uri": "https://localhost:8080/"
        },
        "id": "BCymOLVGXzVh",
        "outputId": "7b902da9-7550-47fa-ab6d-0eaeaaeb8838"
      },
      "execution_count": null,
      "outputs": [
        {
          "output_type": "execute_result",
          "data": {
            "text/plain": [
              "64606"
            ]
          },
          "metadata": {},
          "execution_count": 89
        }
      ]
    },
    {
      "cell_type": "code",
      "source": [
        "#perform two-way ANOVA\n",
        "model2 = ols('Total_adverse_actions ~ C(Sex) + C(Youth_at_arrest__under_18_years) + C(Sex):C(Youth_at_arrest__under_18_years)', data=dfANOVA2).fit()\n",
        "sm.stats.anova_lm(model2, typ=2)"
      ],
      "metadata": {
        "id": "p5wJelaZHVx-",
        "colab": {
          "base_uri": "https://localhost:8080/",
          "height": 175
        },
        "outputId": "193fd88d-2daf-4f47-931c-6996cf50d244"
      },
      "execution_count": null,
      "outputs": [
        {
          "output_type": "execute_result",
          "data": {
            "text/plain": [
              "                                                 sum_sq       df          F  \\\n",
              "C(Sex)                                         5.749983      1.0  11.060177   \n",
              "C(Youth_at_arrest__under_18_years)            18.446134      1.0  35.481411   \n",
              "C(Sex):C(Youth_at_arrest__under_18_years)      0.457811      1.0   0.880606   \n",
              "Residual                                   33585.393357  64602.0        NaN   \n",
              "\n",
              "                                                 PR(>F)  \n",
              "C(Sex)                                     8.825084e-04  \n",
              "C(Youth_at_arrest__under_18_years)         2.588235e-09  \n",
              "C(Sex):C(Youth_at_arrest__under_18_years)  3.480392e-01  \n",
              "Residual                                            NaN  "
            ],
            "text/html": [
              "\n",
              "  <div id=\"df-321f517c-6bbe-4a98-84dd-6cf919e73f34\">\n",
              "    <div class=\"colab-df-container\">\n",
              "      <div>\n",
              "<style scoped>\n",
              "    .dataframe tbody tr th:only-of-type {\n",
              "        vertical-align: middle;\n",
              "    }\n",
              "\n",
              "    .dataframe tbody tr th {\n",
              "        vertical-align: top;\n",
              "    }\n",
              "\n",
              "    .dataframe thead th {\n",
              "        text-align: right;\n",
              "    }\n",
              "</style>\n",
              "<table border=\"1\" class=\"dataframe\">\n",
              "  <thead>\n",
              "    <tr style=\"text-align: right;\">\n",
              "      <th></th>\n",
              "      <th>sum_sq</th>\n",
              "      <th>df</th>\n",
              "      <th>F</th>\n",
              "      <th>PR(&gt;F)</th>\n",
              "    </tr>\n",
              "  </thead>\n",
              "  <tbody>\n",
              "    <tr>\n",
              "      <th>C(Sex)</th>\n",
              "      <td>5.749983</td>\n",
              "      <td>1.0</td>\n",
              "      <td>11.060177</td>\n",
              "      <td>8.825084e-04</td>\n",
              "    </tr>\n",
              "    <tr>\n",
              "      <th>C(Youth_at_arrest__under_18_years)</th>\n",
              "      <td>18.446134</td>\n",
              "      <td>1.0</td>\n",
              "      <td>35.481411</td>\n",
              "      <td>2.588235e-09</td>\n",
              "    </tr>\n",
              "    <tr>\n",
              "      <th>C(Sex):C(Youth_at_arrest__under_18_years)</th>\n",
              "      <td>0.457811</td>\n",
              "      <td>1.0</td>\n",
              "      <td>0.880606</td>\n",
              "      <td>3.480392e-01</td>\n",
              "    </tr>\n",
              "    <tr>\n",
              "      <th>Residual</th>\n",
              "      <td>33585.393357</td>\n",
              "      <td>64602.0</td>\n",
              "      <td>NaN</td>\n",
              "      <td>NaN</td>\n",
              "    </tr>\n",
              "  </tbody>\n",
              "</table>\n",
              "</div>\n",
              "      <button class=\"colab-df-convert\" onclick=\"convertToInteractive('df-321f517c-6bbe-4a98-84dd-6cf919e73f34')\"\n",
              "              title=\"Convert this dataframe to an interactive table.\"\n",
              "              style=\"display:none;\">\n",
              "        \n",
              "  <svg xmlns=\"http://www.w3.org/2000/svg\" height=\"24px\"viewBox=\"0 0 24 24\"\n",
              "       width=\"24px\">\n",
              "    <path d=\"M0 0h24v24H0V0z\" fill=\"none\"/>\n",
              "    <path d=\"M18.56 5.44l.94 2.06.94-2.06 2.06-.94-2.06-.94-.94-2.06-.94 2.06-2.06.94zm-11 1L8.5 8.5l.94-2.06 2.06-.94-2.06-.94L8.5 2.5l-.94 2.06-2.06.94zm10 10l.94 2.06.94-2.06 2.06-.94-2.06-.94-.94-2.06-.94 2.06-2.06.94z\"/><path d=\"M17.41 7.96l-1.37-1.37c-.4-.4-.92-.59-1.43-.59-.52 0-1.04.2-1.43.59L10.3 9.45l-7.72 7.72c-.78.78-.78 2.05 0 2.83L4 21.41c.39.39.9.59 1.41.59.51 0 1.02-.2 1.41-.59l7.78-7.78 2.81-2.81c.8-.78.8-2.07 0-2.86zM5.41 20L4 18.59l7.72-7.72 1.47 1.35L5.41 20z\"/>\n",
              "  </svg>\n",
              "      </button>\n",
              "      \n",
              "  <style>\n",
              "    .colab-df-container {\n",
              "      display:flex;\n",
              "      flex-wrap:wrap;\n",
              "      gap: 12px;\n",
              "    }\n",
              "\n",
              "    .colab-df-convert {\n",
              "      background-color: #E8F0FE;\n",
              "      border: none;\n",
              "      border-radius: 50%;\n",
              "      cursor: pointer;\n",
              "      display: none;\n",
              "      fill: #1967D2;\n",
              "      height: 32px;\n",
              "      padding: 0 0 0 0;\n",
              "      width: 32px;\n",
              "    }\n",
              "\n",
              "    .colab-df-convert:hover {\n",
              "      background-color: #E2EBFA;\n",
              "      box-shadow: 0px 1px 2px rgba(60, 64, 67, 0.3), 0px 1px 3px 1px rgba(60, 64, 67, 0.15);\n",
              "      fill: #174EA6;\n",
              "    }\n",
              "\n",
              "    [theme=dark] .colab-df-convert {\n",
              "      background-color: #3B4455;\n",
              "      fill: #D2E3FC;\n",
              "    }\n",
              "\n",
              "    [theme=dark] .colab-df-convert:hover {\n",
              "      background-color: #434B5C;\n",
              "      box-shadow: 0px 1px 3px 1px rgba(0, 0, 0, 0.15);\n",
              "      filter: drop-shadow(0px 1px 2px rgba(0, 0, 0, 0.3));\n",
              "      fill: #FFFFFF;\n",
              "    }\n",
              "  </style>\n",
              "\n",
              "      <script>\n",
              "        const buttonEl =\n",
              "          document.querySelector('#df-321f517c-6bbe-4a98-84dd-6cf919e73f34 button.colab-df-convert');\n",
              "        buttonEl.style.display =\n",
              "          google.colab.kernel.accessAllowed ? 'block' : 'none';\n",
              "\n",
              "        async function convertToInteractive(key) {\n",
              "          const element = document.querySelector('#df-321f517c-6bbe-4a98-84dd-6cf919e73f34');\n",
              "          const dataTable =\n",
              "            await google.colab.kernel.invokeFunction('convertToInteractive',\n",
              "                                                     [key], {});\n",
              "          if (!dataTable) return;\n",
              "\n",
              "          const docLinkHtml = 'Like what you see? Visit the ' +\n",
              "            '<a target=\"_blank\" href=https://colab.research.google.com/notebooks/data_table.ipynb>data table notebook</a>'\n",
              "            + ' to learn more about interactive tables.';\n",
              "          element.innerHTML = '';\n",
              "          dataTable['output_type'] = 'display_data';\n",
              "          await google.colab.output.renderOutput(dataTable, element);\n",
              "          const docLink = document.createElement('div');\n",
              "          docLink.innerHTML = docLinkHtml;\n",
              "          element.appendChild(docLink);\n",
              "        }\n",
              "      </script>\n",
              "    </div>\n",
              "  </div>\n",
              "  "
            ]
          },
          "metadata": {},
          "execution_count": 90
        }
      ]
    },
    {
      "cell_type": "code",
      "source": [
        "########################????????????????????????post hoc test for main effect need or not?????????????????????????????"
      ],
      "metadata": {
        "id": "DqNmnGtScQ86"
      },
      "execution_count": null,
      "outputs": []
    },
    {
      "cell_type": "code",
      "source": [
        "# from statsmodels.stats.multicomp import pairwise_tukeyhsd\n",
        "\n",
        "# dfANOVA2['combination'] = dfANOVA2.Sex + \" / \" + dfANOVA2.Youth_at_arrest__under_18_years\n",
        "\n",
        "# # perform multiple pairwise comparison (Tukey HSD)\n",
        "# m_comp = pairwise_tukeyhsd(endog=dfANOVA2['Total_adverse_actions'], groups=dfANOVA2['combination'], alpha=0.05)\n",
        "# print(m_comp)"
      ],
      "metadata": {
        "id": "Ud5UdWZO_Lpw"
      },
      "execution_count": null,
      "outputs": []
    },
    {
      "cell_type": "code",
      "source": [
        "#interaction plots in 2 way anova\n",
        "from statsmodels.graphics.factorplots import interaction_plot\n",
        "import matplotlib.pyplot as plt\n",
        "fig = interaction_plot(x=dfANOVA2['Youth_at_arrest__under_18_years'], trace=dfANOVA2['Sex'], response=dfANOVA2['Total_adverse_actions'], \n",
        "    colors=['#d17a22', '#b4c292'], xlabel = 'Age', ylabel = 'total adverse actions')\n",
        "plt.title('Interaction Plot to show suspects mean total adverse actions by gender and age', fontweight='bold')\n",
        "plt.show()"
      ],
      "metadata": {
        "colab": {
          "base_uri": "https://localhost:8080/",
          "height": 301
        },
        "id": "slkGtCDQbD2_",
        "outputId": "c4df6574-3283-440d-a29f-38db90de4156"
      },
      "execution_count": null,
      "outputs": [
        {
          "output_type": "display_data",
          "data": {
            "text/plain": [
              "<Figure size 432x288 with 1 Axes>"
            ],
            "image/png": "[encoded data removed]"
          },
          "metadata": {}
        }
      ]
    }
  ]
}